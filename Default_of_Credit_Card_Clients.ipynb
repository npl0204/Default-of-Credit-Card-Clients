{
  "nbformat": 4,
  "nbformat_minor": 0,
  "metadata": {
    "colab": {
      "name": "Default of Credit Card Clients.ipynb",
      "provenance": [],
      "collapsed_sections": [
        "qRorNC8DToMv",
        "znGNEHYNT0dG",
        "ymkw0zJidgj9",
        "3nLRl1PUtQHc",
        "zyX8BV3Fgfa9",
        "HtpihcSqPRzm",
        "lM97Z1Kf6bJP",
        "zHLhtmZSTuSZ",
        "2dH1mh4AN_53"
      ],
      "include_colab_link": true
    },
    "kernelspec": {
      "name": "python3",
      "display_name": "Python 3"
    },
    "language_info": {
      "name": "python"
    },
    "accelerator": "GPU",
    "gpuClass": "standard"
  },
  "cells": [
    {
      "cell_type": "markdown",
      "metadata": {
        "id": "view-in-github",
        "colab_type": "text"
      },
      "source": [
        "<a href=\"https://colab.research.google.com/github/npl0204/Default-of-Credit-Card-Clients/blob/main/Default_of_Credit_Card_Clients.ipynb\" target=\"_parent\"><img src=\"https://colab.research.google.com/assets/colab-badge.svg\" alt=\"Open In Colab\"/></a>"
      ]
    },
    {
      "cell_type": "markdown",
      "source": [
        "## Loading data and package"
      ],
      "metadata": {
        "id": "qRorNC8DToMv"
      }
    },
    {
      "cell_type": "code",
      "source": [
        "# Handle Error: Pandas requires version '1.2.0' or newer of 'xlrd' (version '1.1.0' currently installed)\n",
        "!pip install --upgrade xlrd"
      ],
      "metadata": {
        "colab": {
          "base_uri": "https://localhost:8080/"
        },
        "id": "scRqKgsAn6h8",
        "outputId": "9869ad47-c5fd-436a-98b2-3df767cb28c5"
      },
      "execution_count": null,
      "outputs": [
        {
          "output_type": "stream",
          "name": "stdout",
          "text": [
            "Looking in indexes: https://pypi.org/simple, https://us-python.pkg.dev/colab-wheels/public/simple/\n",
            "Requirement already satisfied: xlrd in /usr/local/lib/python3.7/dist-packages (2.0.1)\n"
          ]
        }
      ]
    },
    {
      "cell_type": "code",
      "source": [
        "pip install torchmetrics"
      ],
      "metadata": {
        "colab": {
          "base_uri": "https://localhost:8080/"
        },
        "id": "mJ8ZBiS9hSL4",
        "outputId": "80203492-cc27-46b6-ec5f-6bd7b961bf0b"
      },
      "execution_count": null,
      "outputs": [
        {
          "output_type": "stream",
          "name": "stdout",
          "text": [
            "Looking in indexes: https://pypi.org/simple, https://us-python.pkg.dev/colab-wheels/public/simple/\n",
            "Requirement already satisfied: torchmetrics in /usr/local/lib/python3.7/dist-packages (0.9.3)\n",
            "Requirement already satisfied: torch>=1.3.1 in /usr/local/lib/python3.7/dist-packages (from torchmetrics) (1.12.0+cu113)\n",
            "Requirement already satisfied: packaging in /usr/local/lib/python3.7/dist-packages (from torchmetrics) (21.3)\n",
            "Requirement already satisfied: numpy>=1.17.2 in /usr/local/lib/python3.7/dist-packages (from torchmetrics) (1.21.6)\n",
            "Requirement already satisfied: typing-extensions in /usr/local/lib/python3.7/dist-packages (from torchmetrics) (4.1.1)\n",
            "Requirement already satisfied: pyparsing!=3.0.5,>=2.0.2 in /usr/local/lib/python3.7/dist-packages (from packaging->torchmetrics) (3.0.9)\n"
          ]
        }
      ]
    },
    {
      "cell_type": "code",
      "execution_count": null,
      "metadata": {
        "colab": {
          "base_uri": "https://localhost:8080/"
        },
        "id": "uNMly1l3mrU6",
        "outputId": "ebded7c7-a314-4943-9b26-a15cc85dff21"
      },
      "outputs": [
        {
          "output_type": "stream",
          "name": "stdout",
          "text": [
            "Drive already mounted at /content/drive; to attempt to forcibly remount, call drive.mount(\"/content/drive\", force_remount=True).\n"
          ]
        }
      ],
      "source": [
        "from google.colab import drive\n",
        "drive.mount('/content/drive')"
      ]
    },
    {
      "cell_type": "code",
      "source": [
        "import pandas as pd\n",
        "import numpy as np\n",
        "import seaborn as sns\n",
        "import matplotlib.pyplot as plt\n",
        "% matplotlib inline\n",
        "import math"
      ],
      "metadata": {
        "id": "mowAjoxknjUq"
      },
      "execution_count": null,
      "outputs": []
    },
    {
      "cell_type": "code",
      "source": [
        "creditCard = pd.read_csv(\"/content/drive/MyDrive/Logistic Regression/UCI_Credit_Card.csv\")"
      ],
      "metadata": {
        "id": "Ij6CYcqYnaW1"
      },
      "execution_count": null,
      "outputs": []
    },
    {
      "cell_type": "code",
      "source": [
        "creditCard.rename(columns = {\"default.payment.next.month\" : \"default payment next month\"}, inplace = True)"
      ],
      "metadata": {
        "id": "FBv0Eq4zvIn3"
      },
      "execution_count": null,
      "outputs": []
    },
    {
      "cell_type": "code",
      "source": [
        "creditCard.head()"
      ],
      "metadata": {
        "colab": {
          "base_uri": "https://localhost:8080/"
        },
        "id": "ezygFvuAoHJW",
        "outputId": "40a72350-76be-41eb-c7cd-c957a9e45023"
      },
      "execution_count": null,
      "outputs": [
        {
          "output_type": "execute_result",
          "data": {
            "text/plain": [
              "   ID  LIMIT_BAL  SEX  EDUCATION  MARRIAGE  AGE  PAY_0  PAY_2  PAY_3  PAY_4  \\\n",
              "0   1    20000.0    2          2         1   24      2      2     -1     -1   \n",
              "1   2   120000.0    2          2         2   26     -1      2      0      0   \n",
              "2   3    90000.0    2          2         2   34      0      0      0      0   \n",
              "3   4    50000.0    2          2         1   37      0      0      0      0   \n",
              "4   5    50000.0    1          2         1   57     -1      0     -1      0   \n",
              "\n",
              "   ...  BILL_AMT4  BILL_AMT5  BILL_AMT6  PAY_AMT1  PAY_AMT2  PAY_AMT3  \\\n",
              "0  ...        0.0        0.0        0.0       0.0     689.0       0.0   \n",
              "1  ...     3272.0     3455.0     3261.0       0.0    1000.0    1000.0   \n",
              "2  ...    14331.0    14948.0    15549.0    1518.0    1500.0    1000.0   \n",
              "3  ...    28314.0    28959.0    29547.0    2000.0    2019.0    1200.0   \n",
              "4  ...    20940.0    19146.0    19131.0    2000.0   36681.0   10000.0   \n",
              "\n",
              "   PAY_AMT4  PAY_AMT5  PAY_AMT6  default payment next month  \n",
              "0       0.0       0.0       0.0                           1  \n",
              "1    1000.0       0.0    2000.0                           1  \n",
              "2    1000.0    1000.0    5000.0                           0  \n",
              "3    1100.0    1069.0    1000.0                           0  \n",
              "4    9000.0     689.0     679.0                           0  \n",
              "\n",
              "[5 rows x 25 columns]"
            ],
            "text/html": [
              "\n",
              "  <div id=\"df-814e7e3e-2781-451a-8823-03150b0a6624\">\n",
              "    <div class=\"colab-df-container\">\n",
              "      <div>\n",
              "<style scoped>\n",
              "    .dataframe tbody tr th:only-of-type {\n",
              "        vertical-align: middle;\n",
              "    }\n",
              "\n",
              "    .dataframe tbody tr th {\n",
              "        vertical-align: top;\n",
              "    }\n",
              "\n",
              "    .dataframe thead th {\n",
              "        text-align: right;\n",
              "    }\n",
              "</style>\n",
              "<table border=\"1\" class=\"dataframe\">\n",
              "  <thead>\n",
              "    <tr style=\"text-align: right;\">\n",
              "      <th></th>\n",
              "      <th>ID</th>\n",
              "      <th>LIMIT_BAL</th>\n",
              "      <th>SEX</th>\n",
              "      <th>EDUCATION</th>\n",
              "      <th>MARRIAGE</th>\n",
              "      <th>AGE</th>\n",
              "      <th>PAY_0</th>\n",
              "      <th>PAY_2</th>\n",
              "      <th>PAY_3</th>\n",
              "      <th>PAY_4</th>\n",
              "      <th>...</th>\n",
              "      <th>BILL_AMT4</th>\n",
              "      <th>BILL_AMT5</th>\n",
              "      <th>BILL_AMT6</th>\n",
              "      <th>PAY_AMT1</th>\n",
              "      <th>PAY_AMT2</th>\n",
              "      <th>PAY_AMT3</th>\n",
              "      <th>PAY_AMT4</th>\n",
              "      <th>PAY_AMT5</th>\n",
              "      <th>PAY_AMT6</th>\n",
              "      <th>default payment next month</th>\n",
              "    </tr>\n",
              "  </thead>\n",
              "  <tbody>\n",
              "    <tr>\n",
              "      <th>0</th>\n",
              "      <td>1</td>\n",
              "      <td>20000.0</td>\n",
              "      <td>2</td>\n",
              "      <td>2</td>\n",
              "      <td>1</td>\n",
              "      <td>24</td>\n",
              "      <td>2</td>\n",
              "      <td>2</td>\n",
              "      <td>-1</td>\n",
              "      <td>-1</td>\n",
              "      <td>...</td>\n",
              "      <td>0.0</td>\n",
              "      <td>0.0</td>\n",
              "      <td>0.0</td>\n",
              "      <td>0.0</td>\n",
              "      <td>689.0</td>\n",
              "      <td>0.0</td>\n",
              "      <td>0.0</td>\n",
              "      <td>0.0</td>\n",
              "      <td>0.0</td>\n",
              "      <td>1</td>\n",
              "    </tr>\n",
              "    <tr>\n",
              "      <th>1</th>\n",
              "      <td>2</td>\n",
              "      <td>120000.0</td>\n",
              "      <td>2</td>\n",
              "      <td>2</td>\n",
              "      <td>2</td>\n",
              "      <td>26</td>\n",
              "      <td>-1</td>\n",
              "      <td>2</td>\n",
              "      <td>0</td>\n",
              "      <td>0</td>\n",
              "      <td>...</td>\n",
              "      <td>3272.0</td>\n",
              "      <td>3455.0</td>\n",
              "      <td>3261.0</td>\n",
              "      <td>0.0</td>\n",
              "      <td>1000.0</td>\n",
              "      <td>1000.0</td>\n",
              "      <td>1000.0</td>\n",
              "      <td>0.0</td>\n",
              "      <td>2000.0</td>\n",
              "      <td>1</td>\n",
              "    </tr>\n",
              "    <tr>\n",
              "      <th>2</th>\n",
              "      <td>3</td>\n",
              "      <td>90000.0</td>\n",
              "      <td>2</td>\n",
              "      <td>2</td>\n",
              "      <td>2</td>\n",
              "      <td>34</td>\n",
              "      <td>0</td>\n",
              "      <td>0</td>\n",
              "      <td>0</td>\n",
              "      <td>0</td>\n",
              "      <td>...</td>\n",
              "      <td>14331.0</td>\n",
              "      <td>14948.0</td>\n",
              "      <td>15549.0</td>\n",
              "      <td>1518.0</td>\n",
              "      <td>1500.0</td>\n",
              "      <td>1000.0</td>\n",
              "      <td>1000.0</td>\n",
              "      <td>1000.0</td>\n",
              "      <td>5000.0</td>\n",
              "      <td>0</td>\n",
              "    </tr>\n",
              "    <tr>\n",
              "      <th>3</th>\n",
              "      <td>4</td>\n",
              "      <td>50000.0</td>\n",
              "      <td>2</td>\n",
              "      <td>2</td>\n",
              "      <td>1</td>\n",
              "      <td>37</td>\n",
              "      <td>0</td>\n",
              "      <td>0</td>\n",
              "      <td>0</td>\n",
              "      <td>0</td>\n",
              "      <td>...</td>\n",
              "      <td>28314.0</td>\n",
              "      <td>28959.0</td>\n",
              "      <td>29547.0</td>\n",
              "      <td>2000.0</td>\n",
              "      <td>2019.0</td>\n",
              "      <td>1200.0</td>\n",
              "      <td>1100.0</td>\n",
              "      <td>1069.0</td>\n",
              "      <td>1000.0</td>\n",
              "      <td>0</td>\n",
              "    </tr>\n",
              "    <tr>\n",
              "      <th>4</th>\n",
              "      <td>5</td>\n",
              "      <td>50000.0</td>\n",
              "      <td>1</td>\n",
              "      <td>2</td>\n",
              "      <td>1</td>\n",
              "      <td>57</td>\n",
              "      <td>-1</td>\n",
              "      <td>0</td>\n",
              "      <td>-1</td>\n",
              "      <td>0</td>\n",
              "      <td>...</td>\n",
              "      <td>20940.0</td>\n",
              "      <td>19146.0</td>\n",
              "      <td>19131.0</td>\n",
              "      <td>2000.0</td>\n",
              "      <td>36681.0</td>\n",
              "      <td>10000.0</td>\n",
              "      <td>9000.0</td>\n",
              "      <td>689.0</td>\n",
              "      <td>679.0</td>\n",
              "      <td>0</td>\n",
              "    </tr>\n",
              "  </tbody>\n",
              "</table>\n",
              "<p>5 rows × 25 columns</p>\n",
              "</div>\n",
              "      <button class=\"colab-df-convert\" onclick=\"convertToInteractive('df-814e7e3e-2781-451a-8823-03150b0a6624')\"\n",
              "              title=\"Convert this dataframe to an interactive table.\"\n",
              "              style=\"display:none;\">\n",
              "        \n",
              "  <svg xmlns=\"http://www.w3.org/2000/svg\" height=\"24px\"viewBox=\"0 0 24 24\"\n",
              "       width=\"24px\">\n",
              "    <path d=\"M0 0h24v24H0V0z\" fill=\"none\"/>\n",
              "    <path d=\"M18.56 5.44l.94 2.06.94-2.06 2.06-.94-2.06-.94-.94-2.06-.94 2.06-2.06.94zm-11 1L8.5 8.5l.94-2.06 2.06-.94-2.06-.94L8.5 2.5l-.94 2.06-2.06.94zm10 10l.94 2.06.94-2.06 2.06-.94-2.06-.94-.94-2.06-.94 2.06-2.06.94z\"/><path d=\"M17.41 7.96l-1.37-1.37c-.4-.4-.92-.59-1.43-.59-.52 0-1.04.2-1.43.59L10.3 9.45l-7.72 7.72c-.78.78-.78 2.05 0 2.83L4 21.41c.39.39.9.59 1.41.59.51 0 1.02-.2 1.41-.59l7.78-7.78 2.81-2.81c.8-.78.8-2.07 0-2.86zM5.41 20L4 18.59l7.72-7.72 1.47 1.35L5.41 20z\"/>\n",
              "  </svg>\n",
              "      </button>\n",
              "      \n",
              "  <style>\n",
              "    .colab-df-container {\n",
              "      display:flex;\n",
              "      flex-wrap:wrap;\n",
              "      gap: 12px;\n",
              "    }\n",
              "\n",
              "    .colab-df-convert {\n",
              "      background-color: #E8F0FE;\n",
              "      border: none;\n",
              "      border-radius: 50%;\n",
              "      cursor: pointer;\n",
              "      display: none;\n",
              "      fill: #1967D2;\n",
              "      height: 32px;\n",
              "      padding: 0 0 0 0;\n",
              "      width: 32px;\n",
              "    }\n",
              "\n",
              "    .colab-df-convert:hover {\n",
              "      background-color: #E2EBFA;\n",
              "      box-shadow: 0px 1px 2px rgba(60, 64, 67, 0.3), 0px 1px 3px 1px rgba(60, 64, 67, 0.15);\n",
              "      fill: #174EA6;\n",
              "    }\n",
              "\n",
              "    [theme=dark] .colab-df-convert {\n",
              "      background-color: #3B4455;\n",
              "      fill: #D2E3FC;\n",
              "    }\n",
              "\n",
              "    [theme=dark] .colab-df-convert:hover {\n",
              "      background-color: #434B5C;\n",
              "      box-shadow: 0px 1px 3px 1px rgba(0, 0, 0, 0.15);\n",
              "      filter: drop-shadow(0px 1px 2px rgba(0, 0, 0, 0.3));\n",
              "      fill: #FFFFFF;\n",
              "    }\n",
              "  </style>\n",
              "\n",
              "      <script>\n",
              "        const buttonEl =\n",
              "          document.querySelector('#df-814e7e3e-2781-451a-8823-03150b0a6624 button.colab-df-convert');\n",
              "        buttonEl.style.display =\n",
              "          google.colab.kernel.accessAllowed ? 'block' : 'none';\n",
              "\n",
              "        async function convertToInteractive(key) {\n",
              "          const element = document.querySelector('#df-814e7e3e-2781-451a-8823-03150b0a6624');\n",
              "          const dataTable =\n",
              "            await google.colab.kernel.invokeFunction('convertToInteractive',\n",
              "                                                     [key], {});\n",
              "          if (!dataTable) return;\n",
              "\n",
              "          const docLinkHtml = 'Like what you see? Visit the ' +\n",
              "            '<a target=\"_blank\" href=https://colab.research.google.com/notebooks/data_table.ipynb>data table notebook</a>'\n",
              "            + ' to learn more about interactive tables.';\n",
              "          element.innerHTML = '';\n",
              "          dataTable['output_type'] = 'display_data';\n",
              "          await google.colab.output.renderOutput(dataTable, element);\n",
              "          const docLink = document.createElement('div');\n",
              "          docLink.innerHTML = docLinkHtml;\n",
              "          element.appendChild(docLink);\n",
              "        }\n",
              "      </script>\n",
              "    </div>\n",
              "  </div>\n",
              "  "
            ]
          },
          "metadata": {},
          "execution_count": 478
        }
      ]
    },
    {
      "cell_type": "code",
      "source": [
        "creditCard.drop(\"ID\", axis = 1, inplace = True)"
      ],
      "metadata": {
        "id": "BqPyt0cRuP-K"
      },
      "execution_count": null,
      "outputs": []
    },
    {
      "cell_type": "markdown",
      "source": [
        "* ID: ID of each client\n",
        "* LIMIT_BAL: Amount of given credit in NT dollars (includes individual and family/supplementary credit\n",
        "* SEX: Gender (1=male, 2=female)\n",
        "* EDUCATION: (1=graduate school, 2=university, 3=high school, 4=others, 5=unknown, 6=unknown)\n",
        "* MARRIAGE: Marital status (1=married, 2=single, 3=others)\n",
        "* AGE: Age in years\n",
        "* PAY_0: Repayment status in September, 2005 (-1=pay duly, 1=payment delay for one month, 2=payment delay for two months, … 8=payment delay for eight months, 9=payment delay for nine months and above)\n",
        "* PAY_2: Repayment status in August, 2005 (scale same as above)\n",
        "* PAY_3: Repayment status in July, 2005 (scale same as above)\n",
        "* PAY_4: Repayment status in June, 2005 (scale same as above)\n",
        "* PAY_5: Repayment status in May, 2005 (scale same as above)\n",
        "* PAY_6: Repayment status in April, 2005 (scale same as above)\n",
        "* BILL_AMT1: Amount of bill statement in September, 2005 (NT dollar)\n",
        "* BILL_AMT2: Amount of bill statement in August, 2005 (NT dollar)\n",
        "* BILL_AMT3: Amount of bill statement in July, 2005 (NT dollar)\n",
        "* BILL_AMT4: Amount of bill statement in June, 2005 (NT dollar)\n",
        "* BILL_AMT5: Amount of bill statement in May, 2005 (NT dollar)\n",
        "* BILL_AMT6: Amount of bill statement in April, 2005 (NT dollar)\n",
        "* PAY_AMT1: Amount of previous payment in September, 2005 (NT dollar)\n",
        "* PAY_AMT2: Amount of previous payment in August, 2005 (NT dollar)\n",
        "* PAY_AMT3: Amount of previous payment in July, 2005 (NT dollar)\n",
        "* PAY_AMT4: Amount of previous payment in June, 2005 (NT dollar)\n",
        "* PAY_AMT5: Amount of previous payment in May, 2005 (NT dollar)\n",
        "* PAY_AMT6: Amount of previous payment in April, 2005 (NT dollar)\n",
        "* default payment next month: Default payment (1=yes, 0=no)"
      ],
      "metadata": {
        "id": "A4f0q9ByNceC"
      }
    },
    {
      "cell_type": "markdown",
      "source": [
        "## Visualization"
      ],
      "metadata": {
        "id": "znGNEHYNT0dG"
      }
    },
    {
      "cell_type": "code",
      "source": [
        "sns.countplot(x = \"default payment next month\", data = creditCard)"
      ],
      "metadata": {
        "colab": {
          "base_uri": "https://localhost:8080/"
        },
        "id": "cc3wPhdzT24Q",
        "outputId": "77ca574d-d22d-4aa7-b5d8-882ba7a95444"
      },
      "execution_count": null,
      "outputs": [
        {
          "output_type": "execute_result",
          "data": {
            "text/plain": [
              "<matplotlib.axes._subplots.AxesSubplot at 0x7f606f7bf610>"
            ]
          },
          "metadata": {},
          "execution_count": 480
        },
        {
          "output_type": "display_data",
          "data": {
            "text/plain": [
              "<Figure size 432x288 with 1 Axes>"
            ],
            "image/png": "[encoded data removed]"
          },
          "metadata": {
            "needs_background": "light"
          }
        }
      ]
    },
    {
      "cell_type": "code",
      "source": [
        "sns.countplot(x = \"default payment next month\", hue = \"SEX\", data = creditCard)"
      ],
      "metadata": {
        "colab": {
          "base_uri": "https://localhost:8080/"
        },
        "id": "h-tC6Gu6aQ1_",
        "outputId": "d3e95d91-35a8-43c8-8b37-30b60bd03e40"
      },
      "execution_count": null,
      "outputs": [
        {
          "output_type": "execute_result",
          "data": {
            "text/plain": [
              "<matplotlib.axes._subplots.AxesSubplot at 0x7f606f77cad0>"
            ]
          },
          "metadata": {},
          "execution_count": 481
        },
        {
          "output_type": "display_data",
          "data": {
            "text/plain": [
              "<Figure size 432x288 with 1 Axes>"
            ],
            "image/png": "[encoded data removed]"
          },
          "metadata": {
            "needs_background": "light"
          }
        }
      ]
    },
    {
      "cell_type": "code",
      "source": [
        "sns.countplot(x = \"EDUCATION\", data = creditCard)"
      ],
      "metadata": {
        "colab": {
          "base_uri": "https://localhost:8080/"
        },
        "id": "E8_-MaH0ahBl",
        "outputId": "9da50d8d-8c56-4a82-f4de-3ab0728de41e"
      },
      "execution_count": null,
      "outputs": [
        {
          "output_type": "execute_result",
          "data": {
            "text/plain": [
              "<matplotlib.axes._subplots.AxesSubplot at 0x7f606f795d10>"
            ]
          },
          "metadata": {},
          "execution_count": 482
        },
        {
          "output_type": "display_data",
          "data": {
            "text/plain": [
              "<Figure size 432x288 with 1 Axes>"
            ],
            "image/png": "[encoded data removed]"
          },
          "metadata": {
            "needs_background": "light"
          }
        }
      ]
    },
    {
      "cell_type": "code",
      "source": [
        "sns.countplot(x = \"default payment next month\", hue = \"MARRIAGE\", data = creditCard)"
      ],
      "metadata": {
        "colab": {
          "base_uri": "https://localhost:8080/"
        },
        "id": "i94o3KPOaqCl",
        "outputId": "c510beae-a9d5-4d3d-f60e-8c6e3ad48ca7"
      },
      "execution_count": null,
      "outputs": [
        {
          "output_type": "execute_result",
          "data": {
            "text/plain": [
              "<matplotlib.axes._subplots.AxesSubplot at 0x7f606f803890>"
            ]
          },
          "metadata": {},
          "execution_count": 483
        },
        {
          "output_type": "display_data",
          "data": {
            "text/plain": [
              "<Figure size 432x288 with 1 Axes>"
            ],
            "image/png": "[encoded data removed]"
          },
          "metadata": {
            "needs_background": "light"
          }
        }
      ]
    },
    {
      "cell_type": "code",
      "source": [
        "creditCard[\"AGE\"].plot.hist()"
      ],
      "metadata": {
        "colab": {
          "base_uri": "https://localhost:8080/"
        },
        "id": "ZppIaDatavke",
        "outputId": "68101bbf-2d3d-4622-9fab-1cd8e51191c9"
      },
      "execution_count": null,
      "outputs": [
        {
          "output_type": "execute_result",
          "data": {
            "text/plain": [
              "<matplotlib.axes._subplots.AxesSubplot at 0x7f606f65a150>"
            ]
          },
          "metadata": {},
          "execution_count": 484
        },
        {
          "output_type": "display_data",
          "data": {
            "text/plain": [
              "<Figure size 432x288 with 1 Axes>"
            ],
            "image/png": "[encoded data removed]"
          },
          "metadata": {
            "needs_background": "light"
          }
        }
      ]
    },
    {
      "cell_type": "code",
      "source": [
        "creditCard[\"LIMIT_BAL\"].plot.hist()"
      ],
      "metadata": {
        "colab": {
          "base_uri": "https://localhost:8080/"
        },
        "id": "Rb9_9e3ga1jP",
        "outputId": "3738ee0d-546a-47e7-9ec8-8d79c9c2ddf2"
      },
      "execution_count": null,
      "outputs": [
        {
          "output_type": "execute_result",
          "data": {
            "text/plain": [
              "<matplotlib.axes._subplots.AxesSubplot at 0x7f606f586c50>"
            ]
          },
          "metadata": {},
          "execution_count": 485
        },
        {
          "output_type": "display_data",
          "data": {
            "text/plain": [
              "<Figure size 432x288 with 1 Axes>"
            ],
            "image/png": "[encoded data removed]"
          },
          "metadata": {
            "needs_background": "light"
          }
        }
      ]
    },
    {
      "cell_type": "markdown",
      "source": [
        "## Wrangling"
      ],
      "metadata": {
        "id": "ymkw0zJidgj9"
      }
    },
    {
      "cell_type": "code",
      "source": [
        "creditCard.isnull().sum()"
      ],
      "metadata": {
        "colab": {
          "base_uri": "https://localhost:8080/"
        },
        "id": "Lw69ZzjNFSY9",
        "outputId": "32950069-988f-4963-9cc1-7884b9b1c4cc"
      },
      "execution_count": null,
      "outputs": [
        {
          "output_type": "execute_result",
          "data": {
            "text/plain": [
              "LIMIT_BAL                     0\n",
              "SEX                           0\n",
              "EDUCATION                     0\n",
              "MARRIAGE                      0\n",
              "AGE                           0\n",
              "PAY_0                         0\n",
              "PAY_2                         0\n",
              "PAY_3                         0\n",
              "PAY_4                         0\n",
              "PAY_5                         0\n",
              "PAY_6                         0\n",
              "BILL_AMT1                     0\n",
              "BILL_AMT2                     0\n",
              "BILL_AMT3                     0\n",
              "BILL_AMT4                     0\n",
              "BILL_AMT5                     0\n",
              "BILL_AMT6                     0\n",
              "PAY_AMT1                      0\n",
              "PAY_AMT2                      0\n",
              "PAY_AMT3                      0\n",
              "PAY_AMT4                      0\n",
              "PAY_AMT5                      0\n",
              "PAY_AMT6                      0\n",
              "default payment next month    0\n",
              "dtype: int64"
            ]
          },
          "metadata": {},
          "execution_count": 486
        }
      ]
    },
    {
      "cell_type": "markdown",
      "source": [
        "1. SEX: 1 = male; 2 = female\n",
        "2. EDUCATION: 1 = graduate school; 2 = university; 3 = high school; 4 = others\n",
        "- Values 0, 5 and 6 are unknown. \n",
        "- Assumption: 0 = missing data; 5 and 6 = not mentioned categories.\n",
        "3. MARRIAGE: 1 = married; 2 = single; 3 = others\n",
        "- Values 0 is unknown. Assumption: 0 = missing data.\n",
        "\n",
        "\n"
      ],
      "metadata": {
        "id": "2YZKYATKegBi"
      }
    },
    {
      "cell_type": "code",
      "source": [
        "creditCard[\"EDUCATION\"] = np.where(creditCard[\"EDUCATION\"] == 0, 4, creditCard[\"EDUCATION\"])\n",
        "creditCard[\"EDUCATION\"] = np.where(creditCard[\"EDUCATION\"] == 5, 4, creditCard[\"EDUCATION\"])\n",
        "creditCard[\"EDUCATION\"] = np.where(creditCard[\"EDUCATION\"] == 6, 4, creditCard[\"EDUCATION\"])\n",
        "\n",
        "creditCard[\"MARRIAGE\"] = np.where(creditCard[\"MARRIAGE\"] == 0, 3, creditCard[\"MARRIAGE\"])"
      ],
      "metadata": {
        "id": "n1RyxqAngKhi"
      },
      "execution_count": null,
      "outputs": []
    },
    {
      "cell_type": "code",
      "source": [
        "creditCard.info()"
      ],
      "metadata": {
        "colab": {
          "base_uri": "https://localhost:8080/"
        },
        "id": "8YCWitj9uUgg",
        "outputId": "82e726c6-035a-43e2-cc5e-ddb336d2e3c5"
      },
      "execution_count": null,
      "outputs": [
        {
          "output_type": "stream",
          "name": "stdout",
          "text": [
            "<class 'pandas.core.frame.DataFrame'>\n",
            "RangeIndex: 30000 entries, 0 to 29999\n",
            "Data columns (total 24 columns):\n",
            " #   Column                      Non-Null Count  Dtype  \n",
            "---  ------                      --------------  -----  \n",
            " 0   LIMIT_BAL                   30000 non-null  float64\n",
            " 1   SEX                         30000 non-null  int64  \n",
            " 2   EDUCATION                   30000 non-null  int64  \n",
            " 3   MARRIAGE                    30000 non-null  int64  \n",
            " 4   AGE                         30000 non-null  int64  \n",
            " 5   PAY_0                       30000 non-null  int64  \n",
            " 6   PAY_2                       30000 non-null  int64  \n",
            " 7   PAY_3                       30000 non-null  int64  \n",
            " 8   PAY_4                       30000 non-null  int64  \n",
            " 9   PAY_5                       30000 non-null  int64  \n",
            " 10  PAY_6                       30000 non-null  int64  \n",
            " 11  BILL_AMT1                   30000 non-null  float64\n",
            " 12  BILL_AMT2                   30000 non-null  float64\n",
            " 13  BILL_AMT3                   30000 non-null  float64\n",
            " 14  BILL_AMT4                   30000 non-null  float64\n",
            " 15  BILL_AMT5                   30000 non-null  float64\n",
            " 16  BILL_AMT6                   30000 non-null  float64\n",
            " 17  PAY_AMT1                    30000 non-null  float64\n",
            " 18  PAY_AMT2                    30000 non-null  float64\n",
            " 19  PAY_AMT3                    30000 non-null  float64\n",
            " 20  PAY_AMT4                    30000 non-null  float64\n",
            " 21  PAY_AMT5                    30000 non-null  float64\n",
            " 22  PAY_AMT6                    30000 non-null  float64\n",
            " 23  default payment next month  30000 non-null  int64  \n",
            "dtypes: float64(13), int64(11)\n",
            "memory usage: 5.5 MB\n"
          ]
        }
      ]
    },
    {
      "cell_type": "code",
      "source": [
        "categorical = ['SEX','EDUCATION','MARRIAGE','PAY_0','PAY_2','PAY_3','PAY_4','PAY_5','PAY_6']\n",
        "\n",
        "for i in categorical:\n",
        "    creditCard[i] = creditCard[i].astype(\"object\")"
      ],
      "metadata": {
        "id": "5qk9aiwezQxx"
      },
      "execution_count": null,
      "outputs": []
    },
    {
      "cell_type": "markdown",
      "source": [
        "## Split set"
      ],
      "metadata": {
        "id": "3nLRl1PUtQHc"
      }
    },
    {
      "cell_type": "code",
      "source": [
        "from sklearn.linear_model import LogisticRegression\n",
        "from sklearn.svm import SVC\n",
        "from sklearn.model_selection import train_test_split\n",
        "\n",
        "from sklearn.metrics import precision_recall_curve, f1_score, confusion_matrix, accuracy_score, classification_report, precision_score, recall_score, plot_confusion_matrix\n",
        "import matplotlib.pyplot as plt\n",
        "from numpy import argmax"
      ],
      "metadata": {
        "id": "ea1t6QC1tXnd"
      },
      "execution_count": null,
      "outputs": []
    },
    {
      "cell_type": "markdown",
      "source": [
        "Divide **train-validation-tuning-test** into three set **70-10-10-10** and **50-15-15-20** and **25-25-25-25**"
      ],
      "metadata": {
        "id": "iP970JM3wLGT"
      }
    },
    {
      "cell_type": "code",
      "source": [
        "X = pd.get_dummies(creditCard.drop(\"default payment next month\", axis = 1), columns = [\"SEX\", \"EDUCATION\", \"MARRIAGE\", \"PAY_0\", \"PAY_2\", \"PAY_3\", \"PAY_4\", \"PAY_5\", \"PAY_6\"], drop_first = True)\n",
        "y = creditCard[\"default payment next month\"]"
      ],
      "metadata": {
        "id": "_O7IbeUZafyT"
      },
      "execution_count": null,
      "outputs": []
    },
    {
      "cell_type": "code",
      "source": [
        "# 70-10-10-10\n",
        "X_train1, X_test1, y_train1, y_test1 = train_test_split(X, y, test_size = 0.1, random_state = 42, stratify = y)\n",
        "X_train1, X_val1, y_train1, y_val1 = train_test_split(X_train1, y_train1, test_size = 0.1/0.9, random_state = 42, stratify = y_train1)\n",
        "X_train1, X_tuning1, y_train1, y_tuning1 = train_test_split(X_train1, y_train1, test_size = 0.1/0.8, random_state = 42, stratify = y_train1)"
      ],
      "metadata": {
        "id": "byoCIkeLtaSM"
      },
      "execution_count": null,
      "outputs": []
    },
    {
      "cell_type": "code",
      "source": [
        "# 50-15-15-20\n",
        "X_train2, X_test2, y_train2, y_test2 = train_test_split(X, y, test_size = 0.2, random_state = 42, stratify = y)\n",
        "X_train2, X_val2, y_train2, y_val2 = train_test_split(X_train2, y_train2, test_size = 0.15/0.8, random_state = 42, stratify = y_train2)\n",
        "X_train2, X_tuning2, y_train2, y_tuning2 = train_test_split(X_train2, y_train2, test_size = 0.15/0.65, random_state = 42, stratify = y_train2)"
      ],
      "metadata": {
        "id": "WNADRM60w7-P"
      },
      "execution_count": null,
      "outputs": []
    },
    {
      "cell_type": "code",
      "source": [
        "# 25-25-25-25\n",
        "X_train3, X_test3, y_train3, y_test3 = train_test_split(X, y, test_size = 0.25, random_state = 42, stratify = y)\n",
        "X_train3, X_val3, y_train3, y_val3 = train_test_split(X_train3, y_train3, test_size = 0.25/0.75, random_state = 42, stratify = y_train3)\n",
        "X_train3, X_tuning3, y_train3, y_tuning3 = train_test_split(X_train3, y_train3, test_size = 0.25/0.5, random_state = 42, stratify = y_train3)"
      ],
      "metadata": {
        "id": "Gv8GFMGDw8h3"
      },
      "execution_count": null,
      "outputs": []
    },
    {
      "cell_type": "code",
      "source": [
        "models = []\n",
        "acc = []\n",
        "f1 = []"
      ],
      "metadata": {
        "id": "zlpovBZiiA2m"
      },
      "execution_count": null,
      "outputs": []
    },
    {
      "cell_type": "markdown",
      "source": [
        "## Logistic regression"
      ],
      "metadata": {
        "id": "zyX8BV3Fgfa9"
      }
    },
    {
      "cell_type": "markdown",
      "source": [
        "### **No tuning**"
      ],
      "metadata": {
        "id": "HtpihcSqPRzm"
      }
    },
    {
      "cell_type": "code",
      "source": [
        "LR = LogisticRegression(max_iter = 10000)\n",
        "LR.fit(X_train1, y_train1)\n",
        "\n",
        "y_pred = LR.predict(X_test1)\n",
        "\n",
        "print(\"accuracy =\", accuracy_score(y_test1, y_pred))\n",
        "print(\"confusion_matrix =\\n\", confusion_matrix(y_test1, y_pred))\n",
        "print(classification_report(y_test1, y_pred))\n",
        "print(f1_score(y_test1, y_pred))"
      ],
      "metadata": {
        "id": "DlnKgOvSkpYw",
        "colab": {
          "base_uri": "https://localhost:8080/"
        },
        "outputId": "fa31d4ea-5b82-459f-ce3a-fe590cea4014"
      },
      "execution_count": null,
      "outputs": [
        {
          "output_type": "stream",
          "name": "stdout",
          "text": [
            "accuracy = 0.7783333333333333\n",
            "confusion_matrix =\n",
            " [[2335    1]\n",
            " [ 664    0]]\n",
            "              precision    recall  f1-score   support\n",
            "\n",
            "           0       0.78      1.00      0.88      2336\n",
            "           1       0.00      0.00      0.00       664\n",
            "\n",
            "    accuracy                           0.78      3000\n",
            "   macro avg       0.39      0.50      0.44      3000\n",
            "weighted avg       0.61      0.78      0.68      3000\n",
            "\n",
            "0.0\n"
          ]
        }
      ]
    },
    {
      "cell_type": "code",
      "source": [
        "models.append(\"Simple Logistic Regression\")\n",
        "acc.append(accuracy_score(y_test1, y_pred))\n",
        "f1.append(f1_score(y_test1, y_pred))"
      ],
      "metadata": {
        "id": "86a5ymIhiM3l"
      },
      "execution_count": null,
      "outputs": []
    },
    {
      "cell_type": "code",
      "source": [
        "plot_confusion_matrix(LR, X_test1, y_test1)"
      ],
      "metadata": {
        "id": "-zJEmpZB62Vr",
        "colab": {
          "base_uri": "https://localhost:8080/"
        },
        "outputId": "a29826de-6f28-4acc-b9a7-d506b6a922eb"
      },
      "execution_count": null,
      "outputs": [
        {
          "output_type": "stream",
          "name": "stderr",
          "text": [
            "/usr/local/lib/python3.7/dist-packages/sklearn/utils/deprecation.py:87: FutureWarning: Function plot_confusion_matrix is deprecated; Function `plot_confusion_matrix` is deprecated in 1.0 and will be removed in 1.2. Use one of the class methods: ConfusionMatrixDisplay.from_predictions or ConfusionMatrixDisplay.from_estimator.\n",
            "  warnings.warn(msg, category=FutureWarning)\n"
          ]
        },
        {
          "output_type": "execute_result",
          "data": {
            "text/plain": [
              "<sklearn.metrics._plot.confusion_matrix.ConfusionMatrixDisplay at 0x7f606f4cf850>"
            ]
          },
          "metadata": {},
          "execution_count": 498
        },
        {
          "output_type": "display_data",
          "data": {
            "text/plain": [
              "<Figure size 432x288 with 2 Axes>"
            ],
            "image/png": "[encoded data removed]"
          },
          "metadata": {
            "needs_background": "light"
          }
        }
      ]
    },
    {
      "cell_type": "markdown",
      "source": [
        "This accuracy score is not high and it is incorrect. According at the confusion matrix, it returns nearly nothing for False Positive and True Positive. This indicates that if we use the default threshold of 0.5, all of the dataset returns 0. Hence, the accuracy score is actually the proportion of 0 and 1 in dataset. In addition, F1 score is 0, meaning that the model with default threshold is a bad classifier.\n",
        "\n",
        "Therefore, we must use tuning to find the real threshold of the data for this dataset."
      ],
      "metadata": {
        "id": "rj77jFYTahDJ"
      }
    },
    {
      "cell_type": "markdown",
      "source": [
        "### **Tuning**"
      ],
      "metadata": {
        "id": "k0dey1HqaWJP"
      }
    },
    {
      "cell_type": "code",
      "source": [
        "def to_labels(pos_probs, threshold):\n",
        "\treturn (pos_probs >= threshold).astype(\"int\")"
      ],
      "metadata": {
        "id": "v-Gyfc--mFFa"
      },
      "execution_count": null,
      "outputs": []
    },
    {
      "cell_type": "markdown",
      "source": [
        "#### **Set 70-10-10-10**"
      ],
      "metadata": {
        "id": "mnOaY7bHPbzD"
      }
    },
    {
      "cell_type": "code",
      "source": [
        "from sklearn.preprocessing import StandardScaler\n",
        "scaler = StandardScaler()\n",
        "X_train_scaled = scaler.fit_transform(X_train1)\n",
        "X_test_scaled = scaler.transform(X_test1)\n",
        "X_tuning_scaled = scaler.transform(X_tuning1)\n",
        "\n",
        "LR1 = LogisticRegression(max_iter = 10000)\n",
        "LR1.fit(X_train_scaled, y_train1)"
      ],
      "metadata": {
        "id": "YS-ZKCOGaQEl",
        "colab": {
          "base_uri": "https://localhost:8080/"
        },
        "outputId": "b7b85404-f973-44e9-b7a5-61cb53e4b911"
      },
      "execution_count": null,
      "outputs": [
        {
          "output_type": "execute_result",
          "data": {
            "text/plain": [
              "LogisticRegression(max_iter=10000)"
            ]
          },
          "metadata": {},
          "execution_count": 500
        }
      ]
    },
    {
      "cell_type": "code",
      "source": [
        "predictProba = LR1.predict_proba(X_tuning_scaled)[:, 1]\n",
        "precision, recall, thresholds = precision_recall_curve(y_tuning1, predictProba)\n",
        "\n",
        "fSscores = (2 * precision * recall)/(precision + recall)\n",
        "fSscores = [0 if pd.isna(x) else x for x in fSscores]\n",
        "# locate the index of the largest f score\n",
        "ix = argmax(fSscores)\n",
        "\n",
        "# plot the roc curve for the model\n",
        "plt.plot(recall, precision, label = 'Logistic')\n",
        "plt.scatter(recall[ix], precision[ix], marker = 'o', color = 'red', label = 'Best')\n",
        "plt.legend()\n",
        "\n",
        "print(\"Best Threshold = {}, F-Score = {}\".format(thresholds[ix], fSscores[ix]))"
      ],
      "metadata": {
        "id": "_6I0F55EaQEl",
        "colab": {
          "base_uri": "https://localhost:8080/"
        },
        "outputId": "921a801d-6166-4a90-c866-116346627caa"
      },
      "execution_count": null,
      "outputs": [
        {
          "output_type": "stream",
          "name": "stdout",
          "text": [
            "Best Threshold = 0.23408253124243544, F-Score = 0.5085227272727273\n"
          ]
        },
        {
          "output_type": "display_data",
          "data": {
            "text/plain": [
              "<Figure size 432x288 with 1 Axes>"
            ],
            "image/png": "[encoded data removed]"
          },
          "metadata": {
            "needs_background": "light"
          }
        }
      ]
    },
    {
      "cell_type": "code",
      "source": [
        "predictProba = LR1.predict_proba(X_test_scaled)[:, 1]\n",
        "y_pred = to_labels(predictProba, thresholds[ix])\n",
        "\n",
        "print(\"accuracy score =\", accuracy_score(y_test1, y_pred))\n",
        "print(\"confusion matrix\\n\", confusion_matrix(y_test1, y_pred))\n",
        "print(\"precision score =\", precision_score(y_test1, y_pred))\n",
        "print(\"recall score =\", recall_score(y_test1, y_pred))\n",
        "print(\"f1 score =\", f1_score(y_test1, y_pred))"
      ],
      "metadata": {
        "id": "rTQWP372aQEm",
        "colab": {
          "base_uri": "https://localhost:8080/"
        },
        "outputId": "9fbd988d-a7bc-41d8-f24a-ff5761020213"
      },
      "execution_count": null,
      "outputs": [
        {
          "output_type": "stream",
          "name": "stdout",
          "text": [
            "accuracy score = 0.7846666666666666\n",
            "confusion matrix\n",
            " [[1992  344]\n",
            " [ 302  362]]\n",
            "precision score = 0.5127478753541076\n",
            "recall score = 0.5451807228915663\n",
            "f1 score = 0.5284671532846715\n"
          ]
        }
      ]
    },
    {
      "cell_type": "code",
      "source": [
        "models.append(\"Tuning Logistic Regression\")\n",
        "acc.append(accuracy_score(y_test1, y_pred))\n",
        "f1.append(f1_score(y_test1, y_pred))"
      ],
      "metadata": {
        "id": "ktUjq-k8ijHS"
      },
      "execution_count": null,
      "outputs": []
    },
    {
      "cell_type": "markdown",
      "source": [
        "#### **Set 50-15-15-20**"
      ],
      "metadata": {
        "id": "U7-dRRoZPiKw"
      }
    },
    {
      "cell_type": "code",
      "source": [
        "from sklearn.preprocessing import StandardScaler\n",
        "scaler = StandardScaler()\n",
        "X_train_scaled = scaler.fit_transform(X_train2)\n",
        "X_test_scaled = scaler.transform(X_test2)\n",
        "X_tuning_scaled = scaler.transform(X_tuning2)\n",
        "\n",
        "LR2 = LogisticRegression(max_iter = 10000)\n",
        "LR2.fit(X_train_scaled, y_train2)"
      ],
      "metadata": {
        "id": "QWh248BvPiKw",
        "colab": {
          "base_uri": "https://localhost:8080/"
        },
        "outputId": "cbb0ea18-9483-4f95-d619-9157e5fa6ab6"
      },
      "execution_count": null,
      "outputs": [
        {
          "output_type": "execute_result",
          "data": {
            "text/plain": [
              "LogisticRegression(max_iter=10000)"
            ]
          },
          "metadata": {},
          "execution_count": 504
        }
      ]
    },
    {
      "cell_type": "code",
      "source": [
        "predictProba = LR2.predict_proba(X_tuning_scaled)[:, 1]\n",
        "precision, recall, thresholds = precision_recall_curve(y_tuning2, predictProba)\n",
        "\n",
        "fSscores = (2 * precision * recall)/(precision + recall)\n",
        "fSscores = [0 if pd.isna(x) else x for x in fSscores]\n",
        "# locate the index of the largest f score\n",
        "ix = argmax(fSscores)\n",
        "\n",
        "# plot the roc curve for the model\n",
        "plt.plot(recall, precision, label = 'Logistic')\n",
        "plt.scatter(recall[ix], precision[ix], marker = 'o', color = 'red', label = 'Best')\n",
        "plt.legend()\n",
        "\n",
        "print(\"Best Threshold = {}, F-Score = {}\".format(thresholds[ix], fSscores[ix]))"
      ],
      "metadata": {
        "id": "yWhFKOeePiKy",
        "colab": {
          "base_uri": "https://localhost:8080/"
        },
        "outputId": "35099fc0-3a73-4d19-903f-4231610a5110"
      },
      "execution_count": null,
      "outputs": [
        {
          "output_type": "stream",
          "name": "stdout",
          "text": [
            "Best Threshold = 0.24833148481714384, F-Score = 0.5358194308145241\n"
          ]
        },
        {
          "output_type": "display_data",
          "data": {
            "text/plain": [
              "<Figure size 432x288 with 1 Axes>"
            ],
            "image/png": "[encoded data removed]"
          },
          "metadata": {
            "needs_background": "light"
          }
        }
      ]
    },
    {
      "cell_type": "code",
      "source": [
        "predictProba = LR2.predict_proba(X_test_scaled)[:, 1]\n",
        "y_pred = to_labels(predictProba, thresholds[ix])\n",
        "\n",
        "print(\"accuracy score =\", accuracy_score(y_test2, y_pred))\n",
        "print(\"confusion matrix\\n\", confusion_matrix(y_test2, y_pred))\n",
        "print(\"precision score =\", precision_score(y_test2, y_pred))\n",
        "print(\"recall score =\", recall_score(y_test2, y_pred))\n",
        "print(\"f1 score =\", f1_score(y_test2, y_pred))"
      ],
      "metadata": {
        "id": "XhwxSEYIPiKy",
        "colab": {
          "base_uri": "https://localhost:8080/"
        },
        "outputId": "f648d706-1b41-49b2-96a0-f1900313105a"
      },
      "execution_count": null,
      "outputs": [
        {
          "output_type": "stream",
          "name": "stdout",
          "text": [
            "accuracy score = 0.7856666666666666\n",
            "confusion matrix\n",
            " [[4021  652]\n",
            " [ 634  693]]\n",
            "precision score = 0.5152416356877323\n",
            "recall score = 0.5222305953278071\n",
            "f1 score = 0.5187125748502995\n"
          ]
        }
      ]
    },
    {
      "cell_type": "markdown",
      "source": [
        "#### **Set 25-25-25-25**"
      ],
      "metadata": {
        "id": "ViwGlvHlPi5U"
      }
    },
    {
      "cell_type": "code",
      "source": [
        "from sklearn.preprocessing import StandardScaler\n",
        "scaler = StandardScaler()\n",
        "X_train_scaled = scaler.fit_transform(X_train3)\n",
        "X_test_scaled = scaler.transform(X_test3)\n",
        "X_tuning_scaled = scaler.transform(X_tuning3)\n",
        "\n",
        "LR3 = LogisticRegression(max_iter = 10000)\n",
        "LR3.fit(X_train_scaled, y_train3)"
      ],
      "metadata": {
        "id": "j332psHjPi5W",
        "colab": {
          "base_uri": "https://localhost:8080/"
        },
        "outputId": "fc35c8f9-cc25-4123-869e-a967ac3a0acc"
      },
      "execution_count": null,
      "outputs": [
        {
          "output_type": "execute_result",
          "data": {
            "text/plain": [
              "LogisticRegression(max_iter=10000)"
            ]
          },
          "metadata": {},
          "execution_count": 507
        }
      ]
    },
    {
      "cell_type": "code",
      "source": [
        "predictProba = LR3.predict_proba(X_tuning_scaled)[:, 1]\n",
        "precision, recall, thresholds = precision_recall_curve(y_tuning3, predictProba)\n",
        "\n",
        "fSscores = (2 * precision * recall)/(precision + recall)\n",
        "fSscores = [0 if pd.isna(x) else x for x in fSscores]\n",
        "# locate the index of the largest f score\n",
        "ix = argmax(fSscores)\n",
        "\n",
        "# plot the roc curve for the model\n",
        "plt.plot(recall, precision, label = 'Logistic')\n",
        "plt.scatter(recall[ix], precision[ix], marker = 'o', color = 'red', label = 'Best')\n",
        "plt.legend()\n",
        "\n",
        "print(\"Best Threshold = {}, F-Score = {}\".format(thresholds[ix], fSscores[ix]))"
      ],
      "metadata": {
        "id": "nVYJHue2Pi5W",
        "colab": {
          "base_uri": "https://localhost:8080/"
        },
        "outputId": "c32ca21f-fe34-42ba-8cfe-9460f00e3638"
      },
      "execution_count": null,
      "outputs": [
        {
          "output_type": "stream",
          "name": "stderr",
          "text": [
            "/usr/local/lib/python3.7/dist-packages/ipykernel_launcher.py:4: RuntimeWarning: invalid value encountered in true_divide\n",
            "  after removing the cwd from sys.path.\n"
          ]
        },
        {
          "output_type": "stream",
          "name": "stdout",
          "text": [
            "Best Threshold = 0.2697494938556633, F-Score = 0.5268383493639467\n"
          ]
        },
        {
          "output_type": "display_data",
          "data": {
            "text/plain": [
              "<Figure size 432x288 with 1 Axes>"
            ],
            "image/png": "[encoded data removed]"
          },
          "metadata": {
            "needs_background": "light"
          }
        }
      ]
    },
    {
      "cell_type": "code",
      "source": [
        "predictProba = LR3.predict_proba(X_test_scaled)[:, 1]\n",
        "y_pred = to_labels(predictProba, thresholds[ix])\n",
        "\n",
        "print(\"accuracy score =\", accuracy_score(y_test3, y_pred))\n",
        "print(\"confusion matrix\\n\", confusion_matrix(y_test3, y_pred))\n",
        "print(\"precision score =\", precision_score(y_test3, y_pred))\n",
        "print(\"recall score =\", recall_score(y_test3, y_pred))\n",
        "print(\"f1 score =\", f1_score(y_test3, y_pred))"
      ],
      "metadata": {
        "id": "nI1bL3QXPi5W",
        "colab": {
          "base_uri": "https://localhost:8080/"
        },
        "outputId": "eb22abab-0357-4d14-a496-697e3440a350"
      },
      "execution_count": null,
      "outputs": [
        {
          "output_type": "stream",
          "name": "stdout",
          "text": [
            "accuracy score = 0.7890666666666667\n",
            "confusion matrix\n",
            " [[5055  786]\n",
            " [ 796  863]]\n",
            "precision score = 0.5233474833232262\n",
            "recall score = 0.5201928872814949\n",
            "f1 score = 0.5217654171704957\n"
          ]
        }
      ]
    },
    {
      "cell_type": "markdown",
      "source": [
        "## SVM"
      ],
      "metadata": {
        "id": "lM97Z1Kf6bJP"
      }
    },
    {
      "cell_type": "markdown",
      "source": [
        "#### **Set 70-10-10-10**"
      ],
      "metadata": {
        "id": "-kZrLe6jOnuD"
      }
    },
    {
      "cell_type": "markdown",
      "source": [
        "- Feature scaling is mapping the feature values of a dataset into the same range. Feature scaling is crucial for some machine learning algorithms, which consider distances between observations because the distance between two observations differs for non-scaled and scaled cases.\n",
        "- The distance between data points affects the decision boundary SVM chooses. In other words, training an SVM over the scaled and non-scaled data leads to the generation of different models."
      ],
      "metadata": {
        "id": "Tvzm0U0hDnlh"
      }
    },
    {
      "cell_type": "markdown",
      "source": [
        "fit_transform() method on training data and transform() method on test data."
      ],
      "metadata": {
        "id": "gebOQZJOIPa7"
      }
    },
    {
      "cell_type": "code",
      "source": [
        "from sklearn.preprocessing import StandardScaler\n",
        "scaler = StandardScaler()\n",
        "X_train_scaled = scaler.fit_transform(X_train1)\n",
        "X_test_scaled = scaler.transform(X_test1)\n",
        "X_tuning_scaled = scaler.transform(X_tuning1)\n",
        "\n",
        "SVM1 = SVC(random_state = 42, probability = True)\n",
        "SVM1.fit(X_train_scaled, y_train1)"
      ],
      "metadata": {
        "id": "rr43OAwrD4dS",
        "colab": {
          "base_uri": "https://localhost:8080/"
        },
        "outputId": "8b980fc0-93e4-424b-d38d-faa3d1f341e0"
      },
      "execution_count": null,
      "outputs": [
        {
          "output_type": "execute_result",
          "data": {
            "text/plain": [
              "SVC(probability=True, random_state=42)"
            ]
          },
          "metadata": {},
          "execution_count": 510
        }
      ]
    },
    {
      "cell_type": "code",
      "source": [
        "predictProba = SVM1.predict_proba(X_tuning_scaled)[:, 1]\n",
        "precision, recall, thresholds = precision_recall_curve(y_tuning1, predictProba)\n",
        "\n",
        "fSscores = (2 * precision * recall)/(precision + recall)\n",
        "fSscores = [0 if pd.isna(x) else x for x in fSscores]\n",
        "# locate the index of the largest f score\n",
        "ix = argmax(fSscores)\n",
        "\n",
        "# plot the roc curve for the model\n",
        "plt.plot(recall, precision, label = \"SVM\")\n",
        "plt.scatter(recall[ix], precision[ix], marker = 'o', color = 'red', label = 'Best')\n",
        "plt.legend()\n",
        "\n",
        "print(\"Best Threshold = {}, F-Score = {}\".format(thresholds[ix], fSscores[ix]))"
      ],
      "metadata": {
        "id": "YorI-3bRE6Sl",
        "colab": {
          "base_uri": "https://localhost:8080/"
        },
        "outputId": "d5a8a941-b041-4b4d-824e-f8531cac22e4"
      },
      "execution_count": null,
      "outputs": [
        {
          "output_type": "stream",
          "name": "stdout",
          "text": [
            "Best Threshold = 0.1584079590456963, F-Score = 0.4988198269079465\n"
          ]
        },
        {
          "output_type": "display_data",
          "data": {
            "text/plain": [
              "<Figure size 432x288 with 1 Axes>"
            ],
            "image/png": "[encoded data removed]"
          },
          "metadata": {
            "needs_background": "light"
          }
        }
      ]
    },
    {
      "cell_type": "code",
      "source": [
        "predictProba = SVM1.predict_proba(X_test_scaled)[:, 1]\n",
        "y_pred = to_labels(predictProba, thresholds[ix])\n",
        "\n",
        "print(\"accuracy score =\", accuracy_score(y_test1, y_pred))\n",
        "print(\"confusion matrix\\n\", confusion_matrix(y_test1, y_pred))\n",
        "print(\"precision score =\", precision_score(y_test1, y_pred))\n",
        "print(\"recall score =\", recall_score(y_test1, y_pred))\n",
        "print(\"f1 score =\", f1_score(y_test1, y_pred))"
      ],
      "metadata": {
        "id": "4X1rQFOTGpVN",
        "colab": {
          "base_uri": "https://localhost:8080/"
        },
        "outputId": "a92678b2-d6b6-4e0b-88d8-12043f8f7048"
      },
      "execution_count": null,
      "outputs": [
        {
          "output_type": "stream",
          "name": "stdout",
          "text": [
            "accuracy score = 0.783\n",
            "confusion matrix\n",
            " [[2029  307]\n",
            " [ 344  320]]\n",
            "precision score = 0.5103668261562998\n",
            "recall score = 0.4819277108433735\n",
            "f1 score = 0.49573973663826487\n"
          ]
        }
      ]
    },
    {
      "cell_type": "markdown",
      "source": [
        "#### **Set 50-15-15-20**"
      ],
      "metadata": {
        "id": "W-PFU3YpOuAQ"
      }
    },
    {
      "cell_type": "code",
      "source": [
        "from sklearn.preprocessing import StandardScaler\n",
        "scaler = StandardScaler()\n",
        "X_train_scaled = scaler.fit_transform(X_train2)\n",
        "X_test_scaled = scaler.transform(X_test2)\n",
        "X_tuning_scaled = scaler.transform(X_tuning2)\n",
        "\n",
        "SVM2 = SVC(random_state = 42, probability = True)\n",
        "SVM2.fit(X_train_scaled, y_train2)"
      ],
      "metadata": {
        "id": "keC0KrWkOuAQ",
        "colab": {
          "base_uri": "https://localhost:8080/"
        },
        "outputId": "9a7c0a9d-e077-4d7c-d4a8-5cf97e10b37b"
      },
      "execution_count": null,
      "outputs": [
        {
          "output_type": "execute_result",
          "data": {
            "text/plain": [
              "SVC(probability=True, random_state=42)"
            ]
          },
          "metadata": {},
          "execution_count": 513
        }
      ]
    },
    {
      "cell_type": "code",
      "source": [
        "predictProba = SVM2.predict_proba(X_tuning_scaled)[:, 1]\n",
        "precision, recall, thresholds = precision_recall_curve(y_tuning2, predictProba)\n",
        "\n",
        "fSscores = (2 * precision * recall)/(precision + recall)\n",
        "fSscores = [0 if pd.isna(x) else x for x in fSscores]\n",
        "# locate the index of the largest f score\n",
        "ix = argmax(fSscores)\n",
        "\n",
        "# plot the roc curve for the model\n",
        "plt.plot(recall, precision, label = \"SVM\")\n",
        "plt.scatter(recall[ix], precision[ix], marker = 'o', color = 'red', label = 'Best')\n",
        "plt.legend()\n",
        "\n",
        "print(\"Best Threshold = {}, F-Score = {}\".format(thresholds[ix], fSscores[ix]))"
      ],
      "metadata": {
        "id": "7i00sw05OuAQ",
        "colab": {
          "base_uri": "https://localhost:8080/"
        },
        "outputId": "b61c1bfb-0dcd-4a3f-f70c-741eca00979f"
      },
      "execution_count": null,
      "outputs": [
        {
          "output_type": "stream",
          "name": "stdout",
          "text": [
            "Best Threshold = 0.15848114619322365, F-Score = 0.5137362637362637\n"
          ]
        },
        {
          "output_type": "display_data",
          "data": {
            "text/plain": [
              "<Figure size 432x288 with 1 Axes>"
            ],
            "image/png": "[encoded data removed]"
          },
          "metadata": {
            "needs_background": "light"
          }
        }
      ]
    },
    {
      "cell_type": "code",
      "source": [
        "predictProba = SVM2.predict_proba(X_test_scaled)[:, 1]\n",
        "y_pred = to_labels(predictProba, thresholds[ix])\n",
        "\n",
        "print(\"accuracy score =\", accuracy_score(y_test2, y_pred))\n",
        "print(\"confusion matrix\\n\", confusion_matrix(y_test2, y_pred))\n",
        "print(\"precision score =\", precision_score(y_test2, y_pred))\n",
        "print(\"recall score =\", recall_score(y_test2, y_pred))\n",
        "print(\"f1 score =\", f1_score(y_test2, y_pred))"
      ],
      "metadata": {
        "id": "VO9c1AnPOuAR",
        "colab": {
          "base_uri": "https://localhost:8080/"
        },
        "outputId": "9b40f7b8-7fcd-4148-a2ba-c93dc15d43c4"
      },
      "execution_count": null,
      "outputs": [
        {
          "output_type": "stream",
          "name": "stdout",
          "text": [
            "accuracy score = 0.7531666666666667\n",
            "confusion matrix\n",
            " [[3804  869]\n",
            " [ 612  715]]\n",
            "precision score = 0.4513888888888889\n",
            "recall score = 0.5388093443858327\n",
            "f1 score = 0.4912401236688423\n"
          ]
        }
      ]
    },
    {
      "cell_type": "markdown",
      "source": [
        "#### **Set 25-25-25-25**"
      ],
      "metadata": {
        "id": "xgFdssypOvBs"
      }
    },
    {
      "cell_type": "code",
      "source": [
        "from sklearn.preprocessing import StandardScaler\n",
        "scaler = StandardScaler()\n",
        "X_train_scaled = scaler.fit_transform(X_train3)\n",
        "X_test_scaled = scaler.transform(X_test3)\n",
        "X_tuning_scaled = scaler.transform(X_tuning3)\n",
        "\n",
        "SVM3 = SVC(random_state = 42, probability = True)\n",
        "SVM3.fit(X_train_scaled, y_train3)"
      ],
      "metadata": {
        "id": "kt26jxNvOvBt",
        "colab": {
          "base_uri": "https://localhost:8080/"
        },
        "outputId": "787e8229-40d1-4a77-f3d5-4d856d0e5734"
      },
      "execution_count": null,
      "outputs": [
        {
          "output_type": "execute_result",
          "data": {
            "text/plain": [
              "SVC(probability=True, random_state=42)"
            ]
          },
          "metadata": {},
          "execution_count": 516
        }
      ]
    },
    {
      "cell_type": "code",
      "source": [
        "predictProba = SVM3.predict_proba(X_tuning_scaled)[:, 1]\n",
        "precision, recall, thresholds = precision_recall_curve(y_tuning3, predictProba)\n",
        "\n",
        "fSscores = (2 * precision * recall)/(precision + recall)\n",
        "fSscores = [0 if pd.isna(x) else x for x in fSscores]\n",
        "# locate the index of the largest f score\n",
        "ix = argmax(fSscores)\n",
        "\n",
        "# plot the roc curve for the model\n",
        "plt.plot(recall, precision, label = \"SVM\")\n",
        "plt.scatter(recall[ix], precision[ix], marker = 'o', color = 'red', label = 'Best')\n",
        "plt.legend()\n",
        "\n",
        "print(\"Best Threshold = {}, F-Score = {}\".format(thresholds[ix], fSscores[ix]))"
      ],
      "metadata": {
        "id": "jyMS3fUDOvBu",
        "colab": {
          "base_uri": "https://localhost:8080/"
        },
        "outputId": "bf661898-82c3-47e6-dbe7-226f678eb2b9"
      },
      "execution_count": null,
      "outputs": [
        {
          "output_type": "stream",
          "name": "stdout",
          "text": [
            "Best Threshold = 0.1688700556920857, F-Score = 0.48810333106730114\n"
          ]
        },
        {
          "output_type": "display_data",
          "data": {
            "text/plain": [
              "<Figure size 432x288 with 1 Axes>"
            ],
            "image/png": "[encoded data removed]"
          },
          "metadata": {
            "needs_background": "light"
          }
        }
      ]
    },
    {
      "cell_type": "code",
      "source": [
        "predictProba = SVM3.predict_proba(X_test_scaled)[:, 1]\n",
        "y_pred = to_labels(predictProba, thresholds[ix])\n",
        "\n",
        "print(\"accuracy score =\", accuracy_score(y_test3, y_pred))\n",
        "print(\"confusion matrix\\n\", confusion_matrix(y_test3, y_pred))\n",
        "print(\"precision score =\", precision_score(y_test3, y_pred))\n",
        "print(\"recall score =\", recall_score(y_test3, y_pred))\n",
        "print(\"f1 score =\", f1_score(y_test3, y_pred))"
      ],
      "metadata": {
        "id": "H0qbqn5WOvBu",
        "colab": {
          "base_uri": "https://localhost:8080/"
        },
        "outputId": "0915b4b8-e14e-4d36-faec-3511e87ce124"
      },
      "execution_count": null,
      "outputs": [
        {
          "output_type": "stream",
          "name": "stdout",
          "text": [
            "accuracy score = 0.7969333333333334\n",
            "confusion matrix\n",
            " [[5234  607]\n",
            " [ 916  743]]\n",
            "precision score = 0.5503703703703704\n",
            "recall score = 0.4478601567209162\n",
            "f1 score = 0.4938517779993354\n"
          ]
        }
      ]
    },
    {
      "cell_type": "markdown",
      "source": [
        "#### **Set 10-10-10-70**"
      ],
      "metadata": {
        "id": "VQkxNWFeW9Uc"
      }
    },
    {
      "cell_type": "code",
      "source": [
        "from sklearn.preprocessing import StandardScaler\n",
        "scaler = StandardScaler()\n",
        "X_train_scaled = scaler.fit_transform(X_train1)\n",
        "X_test_scaled = scaler.transform(X_test1)\n",
        "X_tuning_scaled = scaler.transform(X_tuning1)\n",
        "\n",
        "SVM4 = SVC(random_state = 42, probability = True)\n",
        "SVM4.fit(X_test_scaled, y_test1)"
      ],
      "metadata": {
        "id": "3DRLeC1rW9Uc",
        "colab": {
          "base_uri": "https://localhost:8080/"
        },
        "outputId": "b9d1454a-66c4-4594-a0b2-4099d01cd2c3"
      },
      "execution_count": null,
      "outputs": [
        {
          "output_type": "execute_result",
          "data": {
            "text/plain": [
              "SVC(probability=True, random_state=42)"
            ]
          },
          "metadata": {},
          "execution_count": 519
        }
      ]
    },
    {
      "cell_type": "code",
      "source": [
        "predictProba = SVM4.predict_proba(X_tuning_scaled)[:, 1]\n",
        "precision, recall, thresholds = precision_recall_curve(y_tuning1, predictProba)\n",
        "\n",
        "fSscores = (2 * precision * recall)/(precision + recall)\n",
        "fSscores = [0 if pd.isna(x) else x for x in fSscores]\n",
        "# locate the index of the largest f score\n",
        "ix = argmax(fSscores)\n",
        "\n",
        "# plot the roc curve for the model\n",
        "plt.plot(recall, precision, label = \"SVM\")\n",
        "plt.scatter(recall[ix], precision[ix], marker = 'o', color = 'red', label = 'Best')\n",
        "plt.legend()\n",
        "\n",
        "print(\"Best Threshold = {}, F-Score = {}\".format(thresholds[ix], fSscores[ix]))"
      ],
      "metadata": {
        "id": "rizpkyNwW9Uc",
        "colab": {
          "base_uri": "https://localhost:8080/"
        },
        "outputId": "c2c99fe3-b23b-44e2-fd6a-43a6acdfe6f3"
      },
      "execution_count": null,
      "outputs": [
        {
          "output_type": "stream",
          "name": "stdout",
          "text": [
            "Best Threshold = 0.17596788701376329, F-Score = 0.5078864353312302\n"
          ]
        },
        {
          "output_type": "display_data",
          "data": {
            "text/plain": [
              "<Figure size 432x288 with 1 Axes>"
            ],
            "image/png": "[encoded data removed]"
          },
          "metadata": {
            "needs_background": "light"
          }
        }
      ]
    },
    {
      "cell_type": "code",
      "source": [
        "predictProba = SVM4.predict_proba(X_train_scaled)[:, 1]\n",
        "y_pred = to_labels(predictProba, thresholds[ix])\n",
        "\n",
        "print(\"accuracy score =\", accuracy_score(y_train1, y_pred))\n",
        "print(\"confusion matrix\\n\", confusion_matrix(y_train1, y_pred))\n",
        "print(\"precision score =\", precision_score(y_train1, y_pred))\n",
        "print(\"recall score =\", recall_score(y_train1, y_pred))\n",
        "print(\"f1 score =\", f1_score(y_train1, y_pred))"
      ],
      "metadata": {
        "id": "y1aCthjMW9Ud",
        "colab": {
          "base_uri": "https://localhost:8080/"
        },
        "outputId": "091d9aa3-1b1b-4986-f3f7-5888bee1c3cd"
      },
      "execution_count": null,
      "outputs": [
        {
          "output_type": "stream",
          "name": "stdout",
          "text": [
            "accuracy score = 0.7865714285714286\n",
            "confusion matrix\n",
            " [[14336  2020]\n",
            " [ 2462  2182]]\n",
            "precision score = 0.5192765349833413\n",
            "recall score = 0.4698535745047373\n",
            "f1 score = 0.49333031878815287\n"
          ]
        }
      ]
    },
    {
      "cell_type": "markdown",
      "source": [
        "#### **Set 20-15-15-50**"
      ],
      "metadata": {
        "id": "nvRHKu5oW9Ud"
      }
    },
    {
      "cell_type": "code",
      "source": [
        "from sklearn.preprocessing import StandardScaler\n",
        "scaler = StandardScaler()\n",
        "X_train_scaled = scaler.fit_transform(X_train2)\n",
        "X_test_scaled = scaler.transform(X_test2)\n",
        "X_tuning_scaled = scaler.transform(X_tuning2)\n",
        "\n",
        "SVM5 = SVC(random_state = 42, probability = True)\n",
        "SVM5.fit(X_test_scaled, y_test2)"
      ],
      "metadata": {
        "id": "FeJ0UfKeW9Ud",
        "colab": {
          "base_uri": "https://localhost:8080/"
        },
        "outputId": "f8df557c-837c-4be5-c4d0-f9f4534c19eb"
      },
      "execution_count": null,
      "outputs": [
        {
          "output_type": "execute_result",
          "data": {
            "text/plain": [
              "SVC(probability=True, random_state=42)"
            ]
          },
          "metadata": {},
          "execution_count": 522
        }
      ]
    },
    {
      "cell_type": "code",
      "source": [
        "predictProba = SVM5.predict_proba(X_tuning_scaled)[:, 1]\n",
        "precision, recall, thresholds = precision_recall_curve(y_tuning2, predictProba)\n",
        "\n",
        "fSscores = (2 * precision * recall)/(precision + recall)\n",
        "fSscores = [0 if pd.isna(x) else x for x in fSscores]\n",
        "# locate the index of the largest f score\n",
        "ix = argmax(fSscores)\n",
        "\n",
        "# plot the roc curve for the model\n",
        "plt.plot(recall, precision, label = \"SVM\")\n",
        "plt.scatter(recall[ix], precision[ix], marker = 'o', color = 'red', label = 'Best')\n",
        "plt.legend()\n",
        "\n",
        "print(\"Best Threshold = {}, F-Score = {}\".format(thresholds[ix], fSscores[ix]))"
      ],
      "metadata": {
        "id": "DzWqKUyBW9Ud",
        "colab": {
          "base_uri": "https://localhost:8080/"
        },
        "outputId": "6f41d340-b3fa-4f1b-b7e4-7bec2d76bca0"
      },
      "execution_count": null,
      "outputs": [
        {
          "output_type": "stream",
          "name": "stdout",
          "text": [
            "Best Threshold = 0.1698750376904834, F-Score = 0.5047248471372986\n"
          ]
        },
        {
          "output_type": "display_data",
          "data": {
            "text/plain": [
              "<Figure size 432x288 with 1 Axes>"
            ],
            "image/png": "[encoded data removed]"
          },
          "metadata": {
            "needs_background": "light"
          }
        }
      ]
    },
    {
      "cell_type": "code",
      "source": [
        "predictProba = SVM5.predict_proba(X_train_scaled)[:, 1]\n",
        "y_pred = to_labels(predictProba, thresholds[ix])\n",
        "\n",
        "print(\"accuracy score =\", accuracy_score(y_train2, y_pred))\n",
        "print(\"confusion matrix\\n\", confusion_matrix(y_train2, y_pred))\n",
        "print(\"precision score =\", precision_score(y_train2, y_pred))\n",
        "print(\"recall score =\", recall_score(y_train2, y_pred))\n",
        "print(\"f1 score =\", f1_score(y_train2, y_pred))"
      ],
      "metadata": {
        "id": "YWbtajC1W9Ud",
        "colab": {
          "base_uri": "https://localhost:8080/"
        },
        "outputId": "4cbf44f3-9295-44bd-cb2f-b861d3adc214"
      },
      "execution_count": null,
      "outputs": [
        {
          "output_type": "stream",
          "name": "stdout",
          "text": [
            "accuracy score = 0.7963333333333333\n",
            "confusion matrix\n",
            " [[10418  1264]\n",
            " [ 1791  1527]]\n",
            "precision score = 0.5471157291293444\n",
            "recall score = 0.4602169981916817\n",
            "f1 score = 0.49991815354395164\n"
          ]
        }
      ]
    },
    {
      "cell_type": "code",
      "source": [
        "models.append(\"SVM\")\n",
        "acc.append(accuracy_score(y_train2, y_pred))\n",
        "f1.append(f1_score(y_train2, y_pred))"
      ],
      "metadata": {
        "id": "LUqM0OqPjO6X"
      },
      "execution_count": null,
      "outputs": []
    },
    {
      "cell_type": "markdown",
      "source": [
        "#### SVM knowledge"
      ],
      "metadata": {
        "id": "zHLhtmZSTuSZ"
      }
    },
    {
      "cell_type": "markdown",
      "source": [
        "**SVM** Support Vector Machine\n",
        "\n",
        "- To put the boundary as far as possible from any of the observations.\n",
        "- SVM solution gives the best possible separation between classes that is the widest margin without unnecessary misclassifications.\n",
        "- Linear boundaries between classes are not appropriate for all problems. However, SVM’s can still be used on nonlinear classification problems by performing a transformation of variables into space, where the classes are linearly separable the linear boundary in that space is equivalent to a non-linear boundary."
      ],
      "metadata": {
        "id": "Tn5yhhBuZmHc"
      }
    },
    {
      "cell_type": "markdown",
      "source": [
        "## XGboost"
      ],
      "metadata": {
        "id": "2dH1mh4AN_53"
      }
    },
    {
      "cell_type": "code",
      "source": [
        "import xgboost as xgb"
      ],
      "metadata": {
        "id": "W0Ys6wlDOcIL"
      },
      "execution_count": null,
      "outputs": []
    },
    {
      "cell_type": "markdown",
      "source": [
        "#### **Set 70-10-10-10**"
      ],
      "metadata": {
        "id": "nZALct9LOKoC"
      }
    },
    {
      "cell_type": "code",
      "source": [
        "from sklearn.preprocessing import StandardScaler\n",
        "scaler = StandardScaler()\n",
        "X_train_scaled = scaler.fit_transform(X_train1)\n",
        "X_test_scaled = scaler.transform(X_test1)\n",
        "X_tuning_scaled = scaler.transform(X_tuning1)\n",
        "\n",
        "XGB1 = xgb.XGBClassifier()\n",
        "XGB1.fit(X_train_scaled, y_train1)"
      ],
      "metadata": {
        "id": "7zqM3EiJOKoD",
        "colab": {
          "base_uri": "https://localhost:8080/"
        },
        "outputId": "185d699f-7aee-4b70-e246-6142d07adc03"
      },
      "execution_count": null,
      "outputs": [
        {
          "output_type": "execute_result",
          "data": {
            "text/plain": [
              "XGBClassifier()"
            ]
          },
          "metadata": {},
          "execution_count": 527
        }
      ]
    },
    {
      "cell_type": "code",
      "source": [
        "predictProba = XGB1.predict_proba(X_tuning_scaled)[:, 1]\n",
        "precision, recall, thresholds = precision_recall_curve(y_tuning1, predictProba)\n",
        "\n",
        "fSscores = (2 * precision * recall)/(precision + recall)\n",
        "fSscores = [0 if pd.isna(x) else x for x in fSscores]\n",
        "# locate the index of the largest f score\n",
        "ix = argmax(fSscores)\n",
        "\n",
        "# plot the roc curve for the model\n",
        "plt.plot(recall, precision, label = \"XGB\")\n",
        "plt.scatter(recall[ix], precision[ix], marker = 'o', color = 'red', label = 'Best')\n",
        "plt.legend()\n",
        "\n",
        "print(\"Best Threshold = {}, F-Score = {}\".format(thresholds[ix], fSscores[ix]))"
      ],
      "metadata": {
        "id": "_KpyA6ppOKoD",
        "colab": {
          "base_uri": "https://localhost:8080/"
        },
        "outputId": "6663d5dd-658d-4f7f-b032-1f84f2cdbaa4"
      },
      "execution_count": null,
      "outputs": [
        {
          "output_type": "stream",
          "name": "stdout",
          "text": [
            "Best Threshold = 0.2911171317100525, F-Score = 0.5253595760787282\n"
          ]
        },
        {
          "output_type": "display_data",
          "data": {
            "text/plain": [
              "<Figure size 432x288 with 1 Axes>"
            ],
            "image/png": "[encoded data removed]"
          },
          "metadata": {
            "needs_background": "light"
          }
        }
      ]
    },
    {
      "cell_type": "code",
      "source": [
        "predictProba = XGB1.predict_proba(X_test_scaled)[:, 1]\n",
        "y_pred = to_labels(predictProba, thresholds[ix])\n",
        "\n",
        "print(\"accuracy score =\", accuracy_score(y_test1, y_pred))\n",
        "print(\"confusion matrix\\n\", confusion_matrix(y_test1, y_pred))\n",
        "print(\"precision score =\", precision_score(y_test1, y_pred))\n",
        "print(\"recall score =\", recall_score(y_test1, y_pred))\n",
        "print(\"f1 score =\", f1_score(y_test1, y_pred))"
      ],
      "metadata": {
        "id": "dZk8bIqiOKoD",
        "colab": {
          "base_uri": "https://localhost:8080/"
        },
        "outputId": "db8523c4-2504-455f-caae-5d35abc71337"
      },
      "execution_count": null,
      "outputs": [
        {
          "output_type": "stream",
          "name": "stdout",
          "text": [
            "accuracy score = 0.8033333333333333\n",
            "confusion matrix\n",
            " [[2055  281]\n",
            " [ 309  355]]\n",
            "precision score = 0.5581761006289309\n",
            "recall score = 0.5346385542168675\n",
            "f1 score = 0.5461538461538462\n"
          ]
        }
      ]
    },
    {
      "cell_type": "code",
      "source": [
        "models.append(\"XGBoost\")\n",
        "acc.append(accuracy_score(y_test1, y_pred))\n",
        "f1.append(f1_score(y_test1, y_pred))"
      ],
      "metadata": {
        "id": "zsBhiItujbeD"
      },
      "execution_count": null,
      "outputs": []
    },
    {
      "cell_type": "markdown",
      "source": [
        "#### **Set 50-15-15-20**"
      ],
      "metadata": {
        "id": "L6y9SRSQOKoD"
      }
    },
    {
      "cell_type": "code",
      "source": [
        "from sklearn.preprocessing import StandardScaler\n",
        "scaler = StandardScaler()\n",
        "X_train_scaled = scaler.fit_transform(X_train2)\n",
        "X_test_scaled = scaler.transform(X_test2)\n",
        "X_tuning_scaled = scaler.transform(X_tuning2)\n",
        "\n",
        "XGB2 = xgb.XGBClassifier()\n",
        "XGB2.fit(X_train_scaled, y_train2)"
      ],
      "metadata": {
        "id": "XdXUD1wgOKoE",
        "colab": {
          "base_uri": "https://localhost:8080/"
        },
        "outputId": "bd7fc4c4-f07a-4cfb-c507-0f3c172dd784"
      },
      "execution_count": null,
      "outputs": [
        {
          "output_type": "execute_result",
          "data": {
            "text/plain": [
              "XGBClassifier()"
            ]
          },
          "metadata": {},
          "execution_count": 531
        }
      ]
    },
    {
      "cell_type": "code",
      "source": [
        "predictProba = XGB2.predict_proba(X_tuning_scaled)[:, 1]\n",
        "precision, recall, thresholds = precision_recall_curve(y_tuning2, predictProba)\n",
        "\n",
        "fSscores = (2 * precision * recall)/(precision + recall)\n",
        "fSscores = [0 if pd.isna(x) else x for x in fSscores]\n",
        "# locate the index of the largest f score\n",
        "ix = argmax(fSscores)\n",
        "\n",
        "# plot the roc curve for the model\n",
        "plt.plot(recall, precision, label = \"XGB\")\n",
        "plt.scatter(recall[ix], precision[ix], marker = 'o', color = 'red', label = 'Best')\n",
        "plt.legend()\n",
        "\n",
        "print(\"Best Threshold = {}, F-Score = {}\".format(thresholds[ix], fSscores[ix]))"
      ],
      "metadata": {
        "id": "_-gnmovyOKoE",
        "colab": {
          "base_uri": "https://localhost:8080/"
        },
        "outputId": "5729b47d-f387-48f7-b080-705c2090bc3c"
      },
      "execution_count": null,
      "outputs": [
        {
          "output_type": "stream",
          "name": "stdout",
          "text": [
            "Best Threshold = 0.2567102909088135, F-Score = 0.5481758652946679\n"
          ]
        },
        {
          "output_type": "display_data",
          "data": {
            "text/plain": [
              "<Figure size 432x288 with 1 Axes>"
            ],
            "image/png": "[encoded data removed]"
          },
          "metadata": {
            "needs_background": "light"
          }
        }
      ]
    },
    {
      "cell_type": "code",
      "source": [
        "predictProba = XGB2.predict_proba(X_test_scaled)[:, 1]\n",
        "y_pred = to_labels(predictProba, thresholds[ix])\n",
        "\n",
        "print(\"accuracy score =\", accuracy_score(y_test2, y_pred))\n",
        "print(\"confusion matrix\\n\", confusion_matrix(y_test2, y_pred))\n",
        "print(\"precision score =\", precision_score(y_test2, y_pred))\n",
        "print(\"recall score =\", recall_score(y_test2, y_pred))\n",
        "print(\"f1 score =\", f1_score(y_test2, y_pred))"
      ],
      "metadata": {
        "id": "d3O8qYdjOKoE",
        "colab": {
          "base_uri": "https://localhost:8080/"
        },
        "outputId": "33967fd5-f4c0-4a8e-ed54-8597fd6f2618"
      },
      "execution_count": null,
      "outputs": [
        {
          "output_type": "stream",
          "name": "stdout",
          "text": [
            "accuracy score = 0.7861666666666667\n",
            "confusion matrix\n",
            " [[3953  720]\n",
            " [ 563  764]]\n",
            "precision score = 0.5148247978436657\n",
            "recall score = 0.5757347400150716\n",
            "f1 score = 0.5435787975809321\n"
          ]
        }
      ]
    },
    {
      "cell_type": "markdown",
      "source": [
        "#### **Set 25-25-25-25**"
      ],
      "metadata": {
        "id": "snN345tgOKoE"
      }
    },
    {
      "cell_type": "code",
      "source": [
        "from sklearn.preprocessing import StandardScaler\n",
        "scaler = StandardScaler()\n",
        "X_train_scaled = scaler.fit_transform(X_train3)\n",
        "X_test_scaled = scaler.transform(X_test3)\n",
        "X_tuning_scaled = scaler.transform(X_tuning3)\n",
        "\n",
        "XGB3 = xgb.XGBClassifier()\n",
        "XGB3.fit(X_train_scaled, y_train3)"
      ],
      "metadata": {
        "id": "yZYm3uYFOKoE",
        "colab": {
          "base_uri": "https://localhost:8080/"
        },
        "outputId": "02f416e4-cf8d-47c8-9c63-2efba6b5a568"
      },
      "execution_count": null,
      "outputs": [
        {
          "output_type": "execute_result",
          "data": {
            "text/plain": [
              "XGBClassifier()"
            ]
          },
          "metadata": {},
          "execution_count": 534
        }
      ]
    },
    {
      "cell_type": "code",
      "source": [
        "predictProba = XGB3.predict_proba(X_tuning_scaled)[:, 1]\n",
        "precision, recall, thresholds = precision_recall_curve(y_tuning3, predictProba)\n",
        "\n",
        "fSscores = (2 * precision * recall)/(precision + recall)\n",
        "fSscores = [0 if pd.isna(x) else x for x in fSscores]\n",
        "# locate the index of the largest f score\n",
        "ix = argmax(fSscores)\n",
        "\n",
        "# plot the roc curve for the model\n",
        "plt.plot(recall, precision, label = \"XGB\")\n",
        "plt.scatter(recall[ix], precision[ix], marker = 'o', color = 'red', label = 'Best')\n",
        "plt.legend()\n",
        "\n",
        "print(\"Best Threshold = {}, F-Score = {}\".format(thresholds[ix], fSscores[ix]))"
      ],
      "metadata": {
        "id": "rAXJbqvoOKoE",
        "colab": {
          "base_uri": "https://localhost:8080/"
        },
        "outputId": "b18e6f6d-efa9-472e-a8c1-abc186d2e4e9"
      },
      "execution_count": null,
      "outputs": [
        {
          "output_type": "stream",
          "name": "stdout",
          "text": [
            "Best Threshold = 0.2431003451347351, F-Score = 0.5375383756628523\n"
          ]
        },
        {
          "output_type": "display_data",
          "data": {
            "text/plain": [
              "<Figure size 432x288 with 1 Axes>"
            ],
            "image/png": "[encoded data removed]"
          },
          "metadata": {
            "needs_background": "light"
          }
        }
      ]
    },
    {
      "cell_type": "code",
      "source": [
        "predictProba = XGB3.predict_proba(X_test_scaled)[:, 1]\n",
        "y_pred = to_labels(predictProba, thresholds[ix])\n",
        "\n",
        "print(\"accuracy score =\", accuracy_score(y_test3, y_pred))\n",
        "print(\"confusion matrix\\n\", confusion_matrix(y_test3, y_pred))\n",
        "print(\"precision score =\", precision_score(y_test3, y_pred))\n",
        "print(\"recall score =\", recall_score(y_test3, y_pred))\n",
        "print(\"f1 score =\", f1_score(y_test3, y_pred))"
      ],
      "metadata": {
        "id": "K3EQIPx7OKoF",
        "colab": {
          "base_uri": "https://localhost:8080/"
        },
        "outputId": "f796cf16-2e3c-4488-cfa3-28a1f0d8bfb8"
      },
      "execution_count": null,
      "outputs": [
        {
          "output_type": "stream",
          "name": "stdout",
          "text": [
            "accuracy score = 0.7762666666666667\n",
            "confusion matrix\n",
            " [[4817 1024]\n",
            " [ 654 1005]]\n",
            "precision score = 0.49531789058649583\n",
            "recall score = 0.6057866184448463\n",
            "f1 score = 0.5450108459869848\n"
          ]
        }
      ]
    },
    {
      "cell_type": "markdown",
      "source": [
        "#### **Set 10-10-10-70**"
      ],
      "metadata": {
        "id": "4FN7VCFuOKoF"
      }
    },
    {
      "cell_type": "code",
      "source": [
        "from sklearn.preprocessing import StandardScaler\n",
        "scaler = StandardScaler()\n",
        "X_train_scaled = scaler.fit_transform(X_train1)\n",
        "X_test_scaled = scaler.transform(X_test1)\n",
        "X_tuning_scaled = scaler.transform(X_tuning1)\n",
        "\n",
        "XGB4 = xgb.XGBClassifier()\n",
        "XGB4.fit(X_test_scaled, y_test1)"
      ],
      "metadata": {
        "id": "duNwOCzZOKoF",
        "colab": {
          "base_uri": "https://localhost:8080/"
        },
        "outputId": "6050f997-54e2-4fa9-dce3-36a7fc1e8966"
      },
      "execution_count": null,
      "outputs": [
        {
          "output_type": "execute_result",
          "data": {
            "text/plain": [
              "XGBClassifier()"
            ]
          },
          "metadata": {},
          "execution_count": 537
        }
      ]
    },
    {
      "cell_type": "code",
      "source": [
        "predictProba = XGB4.predict_proba(X_tuning_scaled)[:, 1]\n",
        "precision, recall, thresholds = precision_recall_curve(y_tuning1, predictProba)\n",
        "\n",
        "fSscores = (2 * precision * recall)/(precision + recall)\n",
        "fSscores = [0 if pd.isna(x) else x for x in fSscores]\n",
        "# locate the index of the largest f score\n",
        "ix = argmax(fSscores)\n",
        "\n",
        "# plot the roc curve for the model\n",
        "plt.plot(recall, precision, label = \"XGB\")\n",
        "plt.scatter(recall[ix], precision[ix], marker = 'o', color = 'red', label = 'Best')\n",
        "plt.legend()\n",
        "\n",
        "print(\"Best Threshold = {}, F-Score = {}\".format(thresholds[ix], fSscores[ix]))"
      ],
      "metadata": {
        "id": "AiTEblebOKoF",
        "colab": {
          "base_uri": "https://localhost:8080/"
        },
        "outputId": "ecc8b091-ef07-4240-aa0c-e9241796a3bf"
      },
      "execution_count": null,
      "outputs": [
        {
          "output_type": "stream",
          "name": "stdout",
          "text": [
            "Best Threshold = 0.3151269555091858, F-Score = 0.5182829888712243\n"
          ]
        },
        {
          "output_type": "display_data",
          "data": {
            "text/plain": [
              "<Figure size 432x288 with 1 Axes>"
            ],
            "image/png": "[encoded data removed]"
          },
          "metadata": {
            "needs_background": "light"
          }
        }
      ]
    },
    {
      "cell_type": "code",
      "source": [
        "predictProba = XGB4.predict_proba(X_train_scaled)[:, 1]\n",
        "y_pred = to_labels(predictProba, thresholds[ix])\n",
        "\n",
        "print(\"accuracy score =\", accuracy_score(y_train1, y_pred))\n",
        "print(\"confusion matrix\\n\", confusion_matrix(y_train1, y_pred))\n",
        "print(\"precision score =\", precision_score(y_train1, y_pred))\n",
        "print(\"recall score =\", recall_score(y_train1, y_pred))\n",
        "print(\"f1 score =\", f1_score(y_train1, y_pred))"
      ],
      "metadata": {
        "id": "o9k_45fqOKoF",
        "colab": {
          "base_uri": "https://localhost:8080/"
        },
        "outputId": "1210d5c9-25d4-4ef9-b61e-7f444bd1c25a"
      },
      "execution_count": null,
      "outputs": [
        {
          "output_type": "stream",
          "name": "stdout",
          "text": [
            "accuracy score = 0.7967142857142857\n",
            "confusion matrix\n",
            " [[14401  1955]\n",
            " [ 2314  2330]]\n",
            "precision score = 0.543757292882147\n",
            "recall score = 0.5017226528854436\n",
            "f1 score = 0.5218949490424459\n"
          ]
        }
      ]
    },
    {
      "cell_type": "markdown",
      "source": [
        "#### **Set 20-15-15-50**"
      ],
      "metadata": {
        "id": "0m4D0flGOKoG"
      }
    },
    {
      "cell_type": "code",
      "source": [
        "from sklearn.preprocessing import StandardScaler\n",
        "scaler = StandardScaler()\n",
        "X_train_scaled = scaler.fit_transform(X_train2)\n",
        "X_test_scaled = scaler.transform(X_test2)\n",
        "X_tuning_scaled = scaler.transform(X_tuning2)\n",
        "\n",
        "XGB5 = xgb.XGBClassifier()\n",
        "XGB5.fit(X_test_scaled, y_test2)"
      ],
      "metadata": {
        "id": "Hz1AdVUgOKoG",
        "colab": {
          "base_uri": "https://localhost:8080/"
        },
        "outputId": "8b46f0aa-1673-4e84-8955-4709df0a0b32"
      },
      "execution_count": null,
      "outputs": [
        {
          "output_type": "execute_result",
          "data": {
            "text/plain": [
              "XGBClassifier()"
            ]
          },
          "metadata": {},
          "execution_count": 540
        }
      ]
    },
    {
      "cell_type": "code",
      "source": [
        "predictProba = XGB5.predict_proba(X_tuning_scaled)[:, 1]\n",
        "precision, recall, thresholds = precision_recall_curve(y_tuning2, predictProba)\n",
        "\n",
        "fSscores = (2 * precision * recall)/(precision + recall)\n",
        "fSscores = [0 if pd.isna(x) else x for x in fSscores]\n",
        "# locate the index of the largest f score\n",
        "ix = argmax(fSscores)\n",
        "\n",
        "# plot the roc curve for the model\n",
        "plt.plot(recall, precision, label = \"XGB\")\n",
        "plt.scatter(recall[ix], precision[ix], marker = 'o', color = 'red', label = 'Best')\n",
        "plt.legend()\n",
        "\n",
        "print(\"Best Threshold = {}, F-Score = {}\".format(thresholds[ix], fSscores[ix]))"
      ],
      "metadata": {
        "id": "cj31JufiOKoG",
        "colab": {
          "base_uri": "https://localhost:8080/"
        },
        "outputId": "22dd8c04-a98c-412a-93b3-87cda40365e1"
      },
      "execution_count": null,
      "outputs": [
        {
          "output_type": "stream",
          "name": "stdout",
          "text": [
            "Best Threshold = 0.2622922956943512, F-Score = 0.5436272270443125\n"
          ]
        },
        {
          "output_type": "display_data",
          "data": {
            "text/plain": [
              "<Figure size 432x288 with 1 Axes>"
            ],
            "image/png": "[encoded data removed]"
          },
          "metadata": {
            "needs_background": "light"
          }
        }
      ]
    },
    {
      "cell_type": "code",
      "source": [
        "predictProba = XGB5.predict_proba(X_train_scaled)[:, 1]\n",
        "y_pred = to_labels(predictProba, thresholds[ix])\n",
        "\n",
        "print(\"accuracy score =\", accuracy_score(y_train2, y_pred))\n",
        "print(\"confusion matrix\\n\", confusion_matrix(y_train2, y_pred))\n",
        "print(\"precision score =\", precision_score(y_train2, y_pred))\n",
        "print(\"recall score =\", recall_score(y_train2, y_pred))\n",
        "print(\"f1 score =\", f1_score(y_train2, y_pred))"
      ],
      "metadata": {
        "id": "LeaqQO2XOKoG",
        "colab": {
          "base_uri": "https://localhost:8080/"
        },
        "outputId": "26874b8c-92f8-4edf-91f5-a53961531475"
      },
      "execution_count": null,
      "outputs": [
        {
          "output_type": "stream",
          "name": "stdout",
          "text": [
            "accuracy score = 0.7798\n",
            "confusion matrix\n",
            " [[9758 1924]\n",
            " [1379 1939]]\n",
            "precision score = 0.5019414962464406\n",
            "recall score = 0.5843881856540084\n",
            "f1 score = 0.5400362066564545\n"
          ]
        }
      ]
    },
    {
      "cell_type": "markdown",
      "source": [
        "## Neural Network Regression"
      ],
      "metadata": {
        "id": "cuzKsea4wbz_"
      }
    },
    {
      "cell_type": "markdown",
      "source": [
        "#### Define Network"
      ],
      "metadata": {
        "id": "bFIGMcTuwigW"
      }
    },
    {
      "cell_type": "code",
      "source": [
        "import torch\n",
        "from torch import nn\n",
        "from torch.utils.data import DataLoader\n",
        "from sklearn.preprocessing import StandardScaler"
      ],
      "metadata": {
        "id": "PeznuSvd17V-"
      },
      "execution_count": null,
      "outputs": []
    },
    {
      "cell_type": "markdown",
      "source": [
        "* Number of input nodes: the number of neurons comprising that layer is equal to the number of features (columns)\n",
        "* Number of output nodes: \n",
        "> If the NN is a regressor, then the output layer has a single node. If the NN is a classifier, then it also has a single node unless softmax is used in which case the output layer has one node per class label in your model."
      ],
      "metadata": {
        "id": "_yLf-2Gj8M3k"
      }
    },
    {
      "cell_type": "code",
      "source": [
        "# number of features (len of X cols)\n",
        "input_dim = len(X.columns)\n",
        "# number of classes (unique of y)\n",
        "output_dim = 1 # one output node for regression model\n",
        "\n",
        "class net(nn.Module):\n",
        "    def __init__(self):\n",
        "        super(net, self).__init__()\n",
        "        self.Sigmoid = nn.Sigmoid()\n",
        "        self.ReLU = nn.ReLU(inplace = True)\n",
        "        self.Dropout = nn.Dropout(0.4)\n",
        "        \n",
        "        # input >> hidden 1\n",
        "        self.linear = nn.Linear(input_dim, round(1.5*input_dim))\n",
        "        \n",
        "        # hidden 1 >> hidden 2\n",
        "        self.linear2 = nn.Linear(round(1.5*input_dim), round(input_dim/0.5))\n",
        "\n",
        "        # hidden 2 >> output\n",
        "        self.linear3 = nn.Linear(round(input_dim/0.5), output_dim)\n",
        "        \n",
        "    def forward(self, input, train=False):\n",
        "        if train:\n",
        "            input = self.Dropout(input)\n",
        "        sig1 = self.ReLU(self.linear(input))\n",
        "        if train:\n",
        "            sig1 = self.Dropout(sig1)\n",
        "        sig2 = self.ReLU(self.linear2(sig1))\n",
        "        if train:\n",
        "            sig2 = self.Dropout(sig2)\n",
        "        y = self.Sigmoid(self.linear3(sig2))\n",
        "        return y"
      ],
      "metadata": {
        "id": "oKlI_Wmf1I39"
      },
      "execution_count": null,
      "outputs": []
    },
    {
      "cell_type": "code",
      "source": [
        "device = torch.device(\"cpu\")\n",
        "class dataset(torch.utils.data.Dataset):\n",
        "    def __init__(self, X, y):\n",
        "        if not torch.is_tensor(X) and not torch.is_tensor(y.values):\n",
        "            self.X = torch.tensor(X, dtype=torch.float32).to(device)\n",
        "            self.y = torch.tensor(y.values, dtype=torch.float32).to(device)\n",
        "\n",
        "    def __len__(self):\n",
        "        return len(self.X)\n",
        "\n",
        "    def getitem(self):\n",
        "        return self.X, self.y"
      ],
      "metadata": {
        "id": "DcZEL5P5XPtq"
      },
      "execution_count": null,
      "outputs": []
    },
    {
      "cell_type": "code",
      "source": [
        "def to_labels(pos_probs, threshold):\n",
        "\treturn (pos_probs >= threshold).long()"
      ],
      "metadata": {
        "id": "ia-_oeefhDHz"
      },
      "execution_count": null,
      "outputs": []
    },
    {
      "cell_type": "markdown",
      "source": [
        "#### Build Model"
      ],
      "metadata": {
        "id": "BX3-uTfVg5-Y"
      }
    },
    {
      "cell_type": "code",
      "source": [
        "import pickle\n",
        "\n",
        "network = net()\n",
        "network.to(torch.device(\"cpu\"))\n",
        "\n",
        "scaler = StandardScaler()\n",
        "\n",
        "X_train1 = scaler.fit_transform(X_train1)\n",
        "X_tuning1 = scaler.transform(X_tuning1)\n",
        "X_test1 = scaler.transform(X_test1)\n",
        "\n",
        "X_train1, y_train1 = dataset(X_train1, y_train1).getitem()\n",
        "X_tuning1, y_tuning1 = dataset(X_tuning1, y_tuning1).getitem()\n",
        "X_test1, y_test1 = dataset(X_test1, y_test1).getitem()\n",
        "\n",
        "y_train1 = y_train1.unsqueeze(1) # change dimension\n",
        "y_tuning1 = y_tuning1.unsqueeze(1)\n",
        "y_test1 = y_test1.unsqueeze(1)\n",
        "\n",
        "if __name__ == '__main__':\n",
        "\n",
        "    epochs = 500 # 2000,5000,10000\n",
        "    lr = 0.001 # 0.15 0.10 0.05\n",
        "\n",
        "    floss = nn.MSELoss() \n",
        "\n",
        "    optimizer = torch.optim.Adam(network.parameters(), lr = lr) \n",
        "    current_loss = 0 \n",
        "    plot_every = 10 \n",
        "\n",
        "    all_losses = [] \n",
        "    f1_train = []\n",
        "    f1_tun = []\n",
        "\n",
        "    best_max_F1_train = 0\n",
        "    best_max_F1_tun = 0\n",
        "\n",
        "    for epoch in range(epochs): \n",
        "        yhat = network.forward(X_train1, train=True)\n",
        "\n",
        "        # calculate MSE loss   \n",
        "        loss = floss(yhat, y_train1)\n",
        "        \n",
        "        # backpropogate through the loss gradiants   \n",
        "        loss.backward()\n",
        "        \n",
        "        # update model weights   \n",
        "        optimizer.step()\n",
        "        \n",
        "        # remove current gradients for next iteration   \n",
        "        optimizer.zero_grad() \n",
        "    \n",
        "        # append to loss   \n",
        "        current_loss += loss  \n",
        "\n",
        "        if epoch % plot_every == 0:       \n",
        "            with torch.no_grad():\n",
        "\n",
        "                #training\n",
        "                yhat = network.forward(X_train1).detach()\n",
        "                precision, recall, thresholds = precision_recall_curve(y_train1, yhat)\n",
        "                F1_score_train = []\n",
        "                for i in range(len(precision)):\n",
        "                    if precision[i] + recall[i] == 0:\n",
        "                        F1_score_train.append(0)\n",
        "                    else:\n",
        "                        F1_score_train.append((2 * precision[i] * recall[i])/(precision[i] + recall[i]))\n",
        "                max_F1_score_train = max(F1_score_train)\n",
        "                f1_train.append(max_F1_score_train)\n",
        "\n",
        "                # tuning \n",
        "                yhat_tuning = network.forward(X_tuning1).detach()\n",
        "                precision, recall, thresholds = precision_recall_curve(y_tuning1, yhat_tuning)\n",
        "                F1_score_tun = []\n",
        "                for i in range(len(precision)):\n",
        "                    if precision[i] + recall[i] == 0:\n",
        "                        F1_score_tun.append(0)\n",
        "                    else:\n",
        "                        F1_score_tun.append((2 * precision[i] * recall[i])/(precision[i] + recall[i]))\n",
        "                max_F1_score_tun = max(F1_score_tun)\n",
        "                f1_tun.append(max_F1_score_tun)\n",
        "\n",
        "                # Store the best threshold and best model\n",
        "                if max_F1_score_train >= best_max_F1_train and max_F1_score_tun > best_max_F1_tun:\n",
        "                    best_max_F1_train = max_F1_score_train\n",
        "                    best_max_F1_tun = max_F1_score_tun\n",
        "                    best_th = thresholds[argmax(F1_score_tun)]\n",
        "                    # save...\n",
        "                    file = open('best_network.pkl', 'wb')\n",
        "                    pickle.dump(network, file)\n",
        "\n",
        "                all_losses.append(loss.detach().numpy())\n",
        "        \n",
        "        # print progress   \n",
        "        if epoch % (epochs/10) == 0:     \n",
        "            print('10th-epoch =', epoch, 'loss =', loss, 'max(f1) tuning =', max_F1_score_tun, 'max(f1) train =', max_F1_score_train)\n",
        "file.close()"
      ],
      "metadata": {
        "colab": {
          "base_uri": "https://localhost:8080/"
        },
        "id": "Y2884cNsj0O4",
        "outputId": "abb9768d-487f-4c93-895f-a553b010b97b"
      },
      "execution_count": null,
      "outputs": [
        {
          "output_type": "stream",
          "name": "stdout",
          "text": [
            "10th-epoch = 0 loss = tensor(0.2506, grad_fn=<MseLossBackward0>) max(f1) tuning = 0.36244541484716153 max(f1) train = 0.36221823570704315\n",
            "10th-epoch = 50 loss = tensor(0.1467, grad_fn=<MseLossBackward0>) max(f1) tuning = 0.5123309466984884 max(f1) train = 0.5330944350758854\n",
            "10th-epoch = 100 loss = tensor(0.1416, grad_fn=<MseLossBackward0>) max(f1) tuning = 0.518575851393189 max(f1) train = 0.541188524590164\n",
            "10th-epoch = 150 loss = tensor(0.1415, grad_fn=<MseLossBackward0>) max(f1) tuning = 0.5206106870229008 max(f1) train = 0.5462159736763387\n",
            "10th-epoch = 200 loss = tensor(0.1412, grad_fn=<MseLossBackward0>) max(f1) tuning = 0.5207547169811321 max(f1) train = 0.5488073762277009\n",
            "10th-epoch = 250 loss = tensor(0.1400, grad_fn=<MseLossBackward0>) max(f1) tuning = 0.5220165922144224 max(f1) train = 0.5498674281052416\n",
            "10th-epoch = 300 loss = tensor(0.1404, grad_fn=<MseLossBackward0>) max(f1) tuning = 0.5228276877761414 max(f1) train = 0.550997442455243\n",
            "10th-epoch = 350 loss = tensor(0.1399, grad_fn=<MseLossBackward0>) max(f1) tuning = 0.5251479289940828 max(f1) train = 0.5508578431372548\n",
            "10th-epoch = 400 loss = tensor(0.1400, grad_fn=<MseLossBackward0>) max(f1) tuning = 0.5254491017964072 max(f1) train = 0.5514446061109958\n",
            "10th-epoch = 450 loss = tensor(0.1389, grad_fn=<MseLossBackward0>) max(f1) tuning = 0.5263157894736842 max(f1) train = 0.5530029875347687\n"
          ]
        }
      ]
    },
    {
      "cell_type": "code",
      "source": [
        "import matplotlib.pyplot as plt\n",
        "\n",
        "plt.plot(all_losses)\n",
        "plt.ylabel('Loss')\n",
        "plt.show()\n",
        "\n",
        "plt.plot(f1_train)\n",
        "plt.ylabel('F1 train')\n",
        "plt.show()\n",
        "\n",
        "plt.plot(f1_tun)\n",
        "plt.ylabel('F1 tun')\n",
        "plt.show()\n",
        "\n",
        "print(\"best F1 tuning = \", best_max_F1_tun)\n",
        "print(\"best F1 training = \", best_max_F1_train)"
      ],
      "metadata": {
        "colab": {
          "base_uri": "https://localhost:8080/",
          "height": 797
        },
        "id": "O8lAa1iTSKfo",
        "outputId": "af65fe30-8cb7-491a-8031-2f7f8c9c7570"
      },
      "execution_count": null,
      "outputs": [
        {
          "output_type": "display_data",
          "data": {
            "text/plain": [
              "<Figure size 432x288 with 1 Axes>"
            ],
            "image/png": "[encoded data removed]"
          },
          "metadata": {
            "needs_background": "light"
          }
        },
        {
          "output_type": "display_data",
          "data": {
            "text/plain": [
              "<Figure size 432x288 with 1 Axes>"
            ],
            "image/png": "[encoded data removed]"
          },
          "metadata": {
            "needs_background": "light"
          }
        },
        {
          "output_type": "display_data",
          "data": {
            "text/plain": [
              "<Figure size 432x288 with 1 Axes>"
            ],
            "image/png": "[encoded data removed]"
          },
          "metadata": {
            "needs_background": "light"
          }
        },
        {
          "output_type": "stream",
          "name": "stdout",
          "text": [
            "best F1 tuning =  0.526706231454006\n",
            "best F1 training =  0.5532002469643961\n"
          ]
        }
      ]
    },
    {
      "cell_type": "code",
      "source": [
        "print(\"best threshold = \", best_th)\n",
        "\n",
        "# load...\n",
        "file = open('best_network.pkl', 'rb')\n",
        "network = pickle.load(file)\n",
        "y_pred = to_labels(network.forward(X_test1), best_th)\n",
        "\n",
        "print(\"accuracy score =\", accuracy_score(y_test1, y_pred))\n",
        "print(\"confusion matrix\\n\", confusion_matrix(y_test1, y_pred))\n",
        "print(\"precision score =\", precision_score(y_test1, y_pred))\n",
        "print(\"recall score =\", recall_score(y_test1, y_pred))\n",
        "print(\"f1 score =\", f1_score(y_test1, y_pred))\n",
        "\n",
        "file.close()"
      ],
      "metadata": {
        "colab": {
          "base_uri": "https://localhost:8080/"
        },
        "id": "ODT9gxRQXbL1",
        "outputId": "443e79e5-d274-44b5-f87d-942cbb240907"
      },
      "execution_count": null,
      "outputs": [
        {
          "output_type": "stream",
          "name": "stdout",
          "text": [
            "best threshold =  0.28988653\n",
            "accuracy score = 0.799\n",
            "confusion matrix\n",
            " [[2038  298]\n",
            " [ 305  359]]\n",
            "precision score = 0.5464231354642314\n",
            "recall score = 0.5406626506024096\n",
            "f1 score = 0.5435276305828917\n"
          ]
        }
      ]
    },
    {
      "cell_type": "code",
      "source": [
        "models.append(\"Neural Network\")\n",
        "acc.append(accuracy_score(y_test1, y_pred))\n",
        "f1.append(f1_score(y_test1, y_pred))"
      ],
      "metadata": {
        "id": "mXk5SFH6i0wd"
      },
      "execution_count": null,
      "outputs": []
    },
    {
      "cell_type": "markdown",
      "source": [
        "## Comparing Models"
      ],
      "metadata": {
        "id": "r0R8_U6Uhma0"
      }
    },
    {
      "cell_type": "code",
      "source": [
        "comparison = pd.DataFrame({'Model': models, 'Accuracy': acc, 'F1 Score': f1})\n",
        "comparison"
      ],
      "metadata": {
        "colab": {
          "base_uri": "https://localhost:8080/",
          "height": 206
        },
        "id": "rTFqNUaOh7SV",
        "outputId": "10adae21-4022-451d-d319-729439c359c0"
      },
      "execution_count": null,
      "outputs": [
        {
          "output_type": "execute_result",
          "data": {
            "text/plain": [
              "                        Model  Accuracy  F1 Score\n",
              "0  Simple Logistic Regression  0.778333  0.000000\n",
              "1  Tuning Logistic Regression  0.784667  0.528467\n",
              "2                         SVM  0.796333  0.499918\n",
              "3                     XGBoost  0.803333  0.546154\n",
              "4              Neural Network  0.799000  0.543528"
            ],
            "text/html": [
              "\n",
              "  <div id=\"df-a0eb4dfd-7126-44ea-ae07-e50c0d7452ba\">\n",
              "    <div class=\"colab-df-container\">\n",
              "      <div>\n",
              "<style scoped>\n",
              "    .dataframe tbody tr th:only-of-type {\n",
              "        vertical-align: middle;\n",
              "    }\n",
              "\n",
              "    .dataframe tbody tr th {\n",
              "        vertical-align: top;\n",
              "    }\n",
              "\n",
              "    .dataframe thead th {\n",
              "        text-align: right;\n",
              "    }\n",
              "</style>\n",
              "<table border=\"1\" class=\"dataframe\">\n",
              "  <thead>\n",
              "    <tr style=\"text-align: right;\">\n",
              "      <th></th>\n",
              "      <th>Model</th>\n",
              "      <th>Accuracy</th>\n",
              "      <th>F1 Score</th>\n",
              "    </tr>\n",
              "  </thead>\n",
              "  <tbody>\n",
              "    <tr>\n",
              "      <th>0</th>\n",
              "      <td>Simple Logistic Regression</td>\n",
              "      <td>0.778333</td>\n",
              "      <td>0.000000</td>\n",
              "    </tr>\n",
              "    <tr>\n",
              "      <th>1</th>\n",
              "      <td>Tuning Logistic Regression</td>\n",
              "      <td>0.784667</td>\n",
              "      <td>0.528467</td>\n",
              "    </tr>\n",
              "    <tr>\n",
              "      <th>2</th>\n",
              "      <td>SVM</td>\n",
              "      <td>0.796333</td>\n",
              "      <td>0.499918</td>\n",
              "    </tr>\n",
              "    <tr>\n",
              "      <th>3</th>\n",
              "      <td>XGBoost</td>\n",
              "      <td>0.803333</td>\n",
              "      <td>0.546154</td>\n",
              "    </tr>\n",
              "    <tr>\n",
              "      <th>4</th>\n",
              "      <td>Neural Network</td>\n",
              "      <td>0.799000</td>\n",
              "      <td>0.543528</td>\n",
              "    </tr>\n",
              "  </tbody>\n",
              "</table>\n",
              "</div>\n",
              "      <button class=\"colab-df-convert\" onclick=\"convertToInteractive('df-a0eb4dfd-7126-44ea-ae07-e50c0d7452ba')\"\n",
              "              title=\"Convert this dataframe to an interactive table.\"\n",
              "              style=\"display:none;\">\n",
              "        \n",
              "  <svg xmlns=\"http://www.w3.org/2000/svg\" height=\"24px\"viewBox=\"0 0 24 24\"\n",
              "       width=\"24px\">\n",
              "    <path d=\"M0 0h24v24H0V0z\" fill=\"none\"/>\n",
              "    <path d=\"M18.56 5.44l.94 2.06.94-2.06 2.06-.94-2.06-.94-.94-2.06-.94 2.06-2.06.94zm-11 1L8.5 8.5l.94-2.06 2.06-.94-2.06-.94L8.5 2.5l-.94 2.06-2.06.94zm10 10l.94 2.06.94-2.06 2.06-.94-2.06-.94-.94-2.06-.94 2.06-2.06.94z\"/><path d=\"M17.41 7.96l-1.37-1.37c-.4-.4-.92-.59-1.43-.59-.52 0-1.04.2-1.43.59L10.3 9.45l-7.72 7.72c-.78.78-.78 2.05 0 2.83L4 21.41c.39.39.9.59 1.41.59.51 0 1.02-.2 1.41-.59l7.78-7.78 2.81-2.81c.8-.78.8-2.07 0-2.86zM5.41 20L4 18.59l7.72-7.72 1.47 1.35L5.41 20z\"/>\n",
              "  </svg>\n",
              "      </button>\n",
              "      \n",
              "  <style>\n",
              "    .colab-df-container {\n",
              "      display:flex;\n",
              "      flex-wrap:wrap;\n",
              "      gap: 12px;\n",
              "    }\n",
              "\n",
              "    .colab-df-convert {\n",
              "      background-color: #E8F0FE;\n",
              "      border: none;\n",
              "      border-radius: 50%;\n",
              "      cursor: pointer;\n",
              "      display: none;\n",
              "      fill: #1967D2;\n",
              "      height: 32px;\n",
              "      padding: 0 0 0 0;\n",
              "      width: 32px;\n",
              "    }\n",
              "\n",
              "    .colab-df-convert:hover {\n",
              "      background-color: #E2EBFA;\n",
              "      box-shadow: 0px 1px 2px rgba(60, 64, 67, 0.3), 0px 1px 3px 1px rgba(60, 64, 67, 0.15);\n",
              "      fill: #174EA6;\n",
              "    }\n",
              "\n",
              "    [theme=dark] .colab-df-convert {\n",
              "      background-color: #3B4455;\n",
              "      fill: #D2E3FC;\n",
              "    }\n",
              "\n",
              "    [theme=dark] .colab-df-convert:hover {\n",
              "      background-color: #434B5C;\n",
              "      box-shadow: 0px 1px 3px 1px rgba(0, 0, 0, 0.15);\n",
              "      filter: drop-shadow(0px 1px 2px rgba(0, 0, 0, 0.3));\n",
              "      fill: #FFFFFF;\n",
              "    }\n",
              "  </style>\n",
              "\n",
              "      <script>\n",
              "        const buttonEl =\n",
              "          document.querySelector('#df-a0eb4dfd-7126-44ea-ae07-e50c0d7452ba button.colab-df-convert');\n",
              "        buttonEl.style.display =\n",
              "          google.colab.kernel.accessAllowed ? 'block' : 'none';\n",
              "\n",
              "        async function convertToInteractive(key) {\n",
              "          const element = document.querySelector('#df-a0eb4dfd-7126-44ea-ae07-e50c0d7452ba');\n",
              "          const dataTable =\n",
              "            await google.colab.kernel.invokeFunction('convertToInteractive',\n",
              "                                                     [key], {});\n",
              "          if (!dataTable) return;\n",
              "\n",
              "          const docLinkHtml = 'Like what you see? Visit the ' +\n",
              "            '<a target=\"_blank\" href=https://colab.research.google.com/notebooks/data_table.ipynb>data table notebook</a>'\n",
              "            + ' to learn more about interactive tables.';\n",
              "          element.innerHTML = '';\n",
              "          dataTable['output_type'] = 'display_data';\n",
              "          await google.colab.output.renderOutput(dataTable, element);\n",
              "          const docLink = document.createElement('div');\n",
              "          docLink.innerHTML = docLinkHtml;\n",
              "          element.appendChild(docLink);\n",
              "        }\n",
              "      </script>\n",
              "    </div>\n",
              "  </div>\n",
              "  "
            ]
          },
          "metadata": {},
          "execution_count": 551
        }
      ]
    }
  ]
}